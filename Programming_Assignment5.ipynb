{
 "cells": [
  {
   "cell_type": "raw",
   "id": "ff289a7a",
   "metadata": {},
   "source": [
    "1. Write a Python Program to Find LCM?"
   ]
  },
  {
   "cell_type": "code",
   "execution_count": 1,
   "id": "350a8a28",
   "metadata": {},
   "outputs": [
    {
     "name": "stdout",
     "output_type": "stream",
     "text": [
      "30\n",
      "55\n"
     ]
    }
   ],
   "source": [
    "def lcm(a,b):\n",
    "    \n",
    "    if a>b:\n",
    "        greater = a\n",
    "    else:\n",
    "        greater = b\n",
    "        \n",
    "    while True:\n",
    "        if (greater % a == 0) and (greater % b == 0):\n",
    "            lcm = greater\n",
    "            break\n",
    "        else:\n",
    "            greater += 1\n",
    "    print(lcm)\n",
    "lcm(3,10)\n",
    "lcm(5,55)"
   ]
  },
  {
   "cell_type": "raw",
   "id": "f94c9064",
   "metadata": {},
   "source": [
    "2. Write a Python Program to Find HCF?"
   ]
  },
  {
   "cell_type": "code",
   "execution_count": 2,
   "id": "6cedda72",
   "metadata": {},
   "outputs": [
    {
     "data": {
      "text/plain": [
       "5"
      ]
     },
     "execution_count": 2,
     "metadata": {},
     "output_type": "execute_result"
    }
   ],
   "source": [
    "def hcf(a,b):\n",
    "    if a>b:\n",
    "        smaller=b\n",
    "    else:\n",
    "        smaller=a\n",
    "    for i in range(1,smaller+1):\n",
    "        if a % i == 0 and b % i == 0:\n",
    "            hcf = i\n",
    "    return hcf\n",
    "hcf(5,20)"
   ]
  },
  {
   "cell_type": "code",
   "execution_count": 3,
   "id": "9c20970e",
   "metadata": {},
   "outputs": [
    {
     "data": {
      "text/plain": [
       "5"
      ]
     },
     "execution_count": 3,
     "metadata": {},
     "output_type": "execute_result"
    }
   ],
   "source": [
    "def hcf1(a,b):\n",
    "    while b:\n",
    "        a,b=b,a%b\n",
    "    return a\n",
    "hcf1(5,20)"
   ]
  },
  {
   "cell_type": "raw",
   "id": "6adb95c6",
   "metadata": {},
   "source": [
    "3. Write a Python Program to Convert Decimal to Binary, Octal and Hexadecimal?"
   ]
  },
  {
   "cell_type": "code",
   "execution_count": 4,
   "id": "aa8a8de3",
   "metadata": {},
   "outputs": [
    {
     "name": "stdout",
     "output_type": "stream",
     "text": [
      "Enter a number: 56\n",
      "binary: 0b111000\n",
      "binary: 0o70\n",
      "binary: 0x38\n"
     ]
    }
   ],
   "source": [
    "def decimalchanger(a):\n",
    "    a = int(input(\"Enter a number: \"))\n",
    "    print(f\"binary: {bin(a)}\")\n",
    "    print(f\"binary: {oct(a)}\")\n",
    "    print(f\"binary: {hex(a)}\")\n",
    "decimalchanger(5)"
   ]
  },
  {
   "cell_type": "raw",
   "id": "e82be0b3",
   "metadata": {},
   "source": [
    "4. Write a Python Program To Find ASCII value of a character?"
   ]
  },
  {
   "cell_type": "code",
   "execution_count": 5,
   "id": "0023c394",
   "metadata": {},
   "outputs": [
    {
     "name": "stdout",
     "output_type": "stream",
     "text": [
      "Enter character: #\n",
      "Your ASCII value is 35\n"
     ]
    }
   ],
   "source": [
    "def ASCII():\n",
    "    char = input(\"Enter character: \")\n",
    "    print(f\"Your ASCII value is {ord(char)}\")\n",
    "ASCII()\n"
   ]
  },
  {
   "cell_type": "raw",
   "id": "75f14c9a",
   "metadata": {},
   "source": [
    "5. Write a Python Program to Make a Simple Calculator with 4 basic mathematical operations?"
   ]
  },
  {
   "cell_type": "code",
   "execution_count": 6,
   "id": "3179c626",
   "metadata": {},
   "outputs": [
    {
     "name": "stdout",
     "output_type": "stream",
     "text": [
      "You can use following operators.\n",
      "+\n",
      "-\n",
      "*\n",
      "/\n",
      "Enter a operator: -\n",
      "Enter first number: 65\n",
      "Enter second number: 85\n",
      "65-85 = -20\n"
     ]
    }
   ],
   "source": [
    "def add(x,y):\n",
    "    return x+y\n",
    "def sub(x,y):\n",
    "    return x-y\n",
    "def divide(x,y):\n",
    "    return x/y\n",
    "def multiply(x,y):\n",
    "    return x*y\n",
    "print(\"You can use following operators.\\n+\\n-\\n*\\n/\")\n",
    "operator = (input(\"Enter a operator: \"))\n",
    "num1 = int(input(\"Enter first number: \"))\n",
    "num2 = int(input(\"Enter second number: \"))\n",
    "\n",
    "if operator=='+':\n",
    "    print(f'{num1}{operator}{num2} =',add(num1,num2))\n",
    "elif operator=='-':\n",
    "    print(f'{num1}{operator}{num2} =',sub(num1,num2))\n",
    "elif operator=='/':\n",
    "    print(f'{num1}{operator}{num2} =',divide(num1,num2))\n",
    "elif operator=='*':\n",
    "    print(f'{num1}{operator}{num2} =',multiply(num1,num2))\n",
    "else:\n",
    "    print(\"Enter correct operator\")"
   ]
  }
 ],
 "metadata": {
  "kernelspec": {
   "display_name": "Python 3 (ipykernel)",
   "language": "python",
   "name": "python3"
  },
  "language_info": {
   "codemirror_mode": {
    "name": "ipython",
    "version": 3
   },
   "file_extension": ".py",
   "mimetype": "text/x-python",
   "name": "python",
   "nbconvert_exporter": "python",
   "pygments_lexer": "ipython3",
   "version": "3.9.12"
  }
 },
 "nbformat": 4,
 "nbformat_minor": 5
}
