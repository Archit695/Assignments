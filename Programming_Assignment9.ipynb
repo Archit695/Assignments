{
 "cells": [
  {
   "cell_type": "code",
   "execution_count": 1,
   "id": "030c56ec",
   "metadata": {},
   "outputs": [
    {
     "name": "stdout",
     "output_type": "stream",
     "text": [
      "Enter a num: 175\n",
      "175 is a Disarium num.\n"
     ]
    }
   ],
   "source": [
    "# 1.Write a Python Program to check if the given number is a Disarium Number ?\n",
    "def chk():\n",
    "    num = input(\"Enter a num: \")\n",
    "    sum = 0\n",
    "    for i in range(len(num)):\n",
    "        sum = sum + int(num[i])**(i+1)\n",
    "    if sum == int(num):\n",
    "        print(f\"{num} is a Disarium num.\")\n",
    "    else:\n",
    "        print(f\"{num} is not a Disarium num.\")\n",
    "chk()\n"
   ]
  },
  {
   "cell_type": "code",
   "execution_count": 2,
   "id": "9aeedfb9",
   "metadata": {},
   "outputs": [
    {
     "data": {
      "text/plain": [
       "[1, 2, 3, 4, 5, 6, 7, 8, 9, 89]"
      ]
     },
     "execution_count": 2,
     "metadata": {},
     "output_type": "execute_result"
    }
   ],
   "source": [
    "# 2.Write a Python Program to print all Disarium numbers between 1 to 100 ?\n",
    "def dis(start,end):\n",
    "    num = []\n",
    "    for i in range(start,end+1):\n",
    "        sum = 0\n",
    "        for j in range(len(str(i))):\n",
    "            sum = sum + int(str(i)[j])**(j+1)\n",
    "        if sum == i:\n",
    "            num.append(i)\n",
    "    return num\n",
    "dis(1,100)"
   ]
  },
  {
   "cell_type": "code",
   "execution_count": 3,
   "id": "48316e99",
   "metadata": {},
   "outputs": [
    {
     "data": {
      "text/plain": [
       "False"
      ]
     },
     "execution_count": 3,
     "metadata": {},
     "output_type": "execute_result"
    }
   ],
   "source": [
    "# 3.Write a Python Program to check if the given number is Happy Number ?\n",
    "def hap(n):\n",
    "    a = set()\n",
    "    while n != 1:\n",
    "    \n",
    "        n = sum(int(i)**2 for i in str(n))\n",
    "        if n in a:\n",
    "            return False\n",
    "        a.add(n)\n",
    "    return True\n",
    "hap(2)"
   ]
  },
  {
   "cell_type": "code",
   "execution_count": 4,
   "id": "b1ae8794",
   "metadata": {},
   "outputs": [
    {
     "name": "stdout",
     "output_type": "stream",
     "text": [
      "[1, 7, 10, 13, 19, 23, 28, 31, 32, 44, 49, 68, 70, 79, 82, 86, 91, 94, 97]\n"
     ]
    }
   ],
   "source": [
    "# 4. Write a Python program to print all happy numbers between 1 and 100?\n",
    "def happ(n):\n",
    "    a = set()\n",
    "    while n!= 1:\n",
    "        n = sum(int(i)**2 for i in str(n))\n",
    "        if n in a:\n",
    "            return False\n",
    "        a.add(n)\n",
    "    return True\n",
    "print([x for x in range(100) if happ(x)])"
   ]
  },
  {
   "cell_type": "code",
   "execution_count": 18,
   "id": "25b62aa6",
   "metadata": {},
   "outputs": [
    {
     "name": "stdout",
     "output_type": "stream",
     "text": [
      "Enter : 12\n",
      "12 is a Harshad num\n"
     ]
    }
   ],
   "source": [
    "# 5. Write a Python program to determine whether the given number is a Harshad Number?\n",
    "def hars():\n",
    "    n = input(\"Enter : \")\n",
    "    sum = 0\n",
    "    for i in range(len(n)):\n",
    "        sum += int(n[i])\n",
    "    if int(n)%sum == 0:\n",
    "        print(f'{n} is a Harshad num')\n",
    "    else:\n",
    "        print(f'{n} is not a Harshad num')\n",
    "hars()\n",
    "        "
   ]
  },
  {
   "cell_type": "code",
   "execution_count": 17,
   "id": "7478666d",
   "metadata": {},
   "outputs": [
    {
     "name": "stdout",
     "output_type": "stream",
     "text": [
      "Enter : 15\n",
      "15 is not a Harshad num\n"
     ]
    }
   ],
   "source": [
    "# 6. Write a Python program to print all pronic numbers between 1 and 100?"
   ]
  },
  {
   "cell_type": "code",
   "execution_count": 22,
   "id": "6bab0f8b",
   "metadata": {},
   "outputs": [
    {
     "name": "stdout",
     "output_type": "stream",
     "text": [
      "[2, 6, 12, 20, 30, 42, 56, 72, 90, 110, 132, 156, 182, 210, 240, 272, 306, 342, 380, 420, 462, 506, 552, 600, 650, 702, 756, 812, 870, 930, 992, 1056, 1122, 1190, 1260, 1332, 1406, 1482, 1560, 1640, 1722, 1806, 1892, 1980, 2070, 2162, 2256, 2352, 2450, 2550, 2652, 2756, 2862, 2970, 3080, 3192, 3306, 3422, 3540, 3660, 3782, 3906, 4032, 4160, 4290, 4422, 4556, 4692, 4830, 4970, 5112, 5256, 5402, 5550, 5700, 5852, 6006, 6162, 6320, 6480, 6642, 6806, 6972, 7140, 7310, 7482, 7656, 7832, 8010, 8190, 8372, 8556, 8742, 8930, 9120, 9312, 9506, 9702, 9900, 10100]\n"
     ]
    }
   ],
   "source": [
    "def pronic(start,end):\n",
    "    l = []\n",
    "    for i in range(start,end+1):\n",
    "        l.append(i*(i+1))\n",
    "    print(l)\n",
    "pronic(1,100)"
   ]
  },
  {
   "cell_type": "code",
   "execution_count": null,
   "id": "b58c3c2e",
   "metadata": {},
   "outputs": [],
   "source": []
  }
 ],
 "metadata": {
  "kernelspec": {
   "display_name": "Python 3 (ipykernel)",
   "language": "python",
   "name": "python3"
  },
  "language_info": {
   "codemirror_mode": {
    "name": "ipython",
    "version": 3
   },
   "file_extension": ".py",
   "mimetype": "text/x-python",
   "name": "python",
   "nbconvert_exporter": "python",
   "pygments_lexer": "ipython3",
   "version": "3.9.12"
  }
 },
 "nbformat": 4,
 "nbformat_minor": 5
}
