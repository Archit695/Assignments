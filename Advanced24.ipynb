{
 "cells": [
  {
   "cell_type": "raw",
   "id": "55751543",
   "metadata": {},
   "source": [
    "Q1. Is it permissible to use several import statements to import the same module? What would the goal be? Can you think of a situation where it would be beneficial ?\n",
    "Ans: Yes, it is permissible to use several import statements to import the same module. It is used in case when we have to import multiple functions from same module."
   ]
  },
  {
   "cell_type": "raw",
   "id": "3aa760f5",
   "metadata": {},
   "source": [
    "Q2. What are some of a module's characteristics? (Name at least one.)\n",
    "Ans: The following are some of a module's characteristics:\n",
    "\n",
    "__name__ : It returns the name of the module\n",
    "__doc__ : It denotes the documentation string line written in a module code."
   ]
  },
  {
   "cell_type": "raw",
   "id": "e4f00bce",
   "metadata": {},
   "source": [
    "Q3. Circular importing, such as when two modules import each other, can lead to dependencies and bugs that aren't visible. How can you go about creating a program that avoids mutual importing?\n",
    "Ans: Circular importing means importing the two modules in each other. If suppose we are wokring in MOD1.py file and it is importing some function say F2() from some other module say MOD2.PY file or we can do vice-versa. What will happen is: This will give an import error.\n",
    "\n",
    "This is because when we import F2() function from module MOD2.py, then this will execute MOD2.py file. And in MOD2.py file there is an another statement of importing MOD1.py module.\n",
    "\n",
    "This will result in endless loop. To avoid this error just do one thingWe can use if __name__ == '__main__'"
   ]
  },
  {
   "cell_type": "raw",
   "id": "b9ae0b23",
   "metadata": {},
   "source": [
    "Q4. Why is __all__ in Python ?\n",
    "Ans: It provides list of all modules present in a library."
   ]
  },
  {
   "cell_type": "raw",
   "id": "993722ca",
   "metadata": {},
   "source": [
    "Q5. In what situation is it useful to refer to the __name__ attribute or the string __main_ _ ?\n",
    "Ans: During the time of execution of the code if we want to refer the module in which we are working on then we uses name attribute. In that case it will return the module in which we are working on. Suppose if that moudle is being imported from some other module then name will have the name of that moudle from where the current module has been imported. The current module in which we are working is refer to the string __main __."
   ]
  },
  {
   "cell_type": "raw",
   "id": "912e8434",
   "metadata": {},
   "source": [
    "Q6. What are some of the benefits of attaching a program counter to the RPN interpreter application, which interprets an RPN script line by line?\n",
    "Ans: Control Flow: The program counter allows for precise control over the execution flow of the RPN script. It keeps track of the current instruction being executed, making it easier to implement control structures such as loops and conditional statements. The program counter can determine which instruction to execute next based on the flow of the script.\n",
    "\n",
    "Error Handling: With a program counter, error handling becomes more efficient. If an error or exception occurs during the execution of an instruction, the program counter can identify the line number or instruction where the error occurred, making it easier to pinpoint and diagnose the issue.\n",
    "\n",
    "Debugging and Testing\n",
    "Program Analysis\n"
   ]
  },
  {
   "cell_type": "raw",
   "id": "b3407a56",
   "metadata": {},
   "source": [
    "Q7. What are the minimum expressions or statements (or both) that you'd need to render a basic programming language like RPN primitive but complete— that is, capable of carrying out any computerised task theoretically possible?\n",
    "\n",
    "Ans: Push , Arithmetic operations, Duplicate, Swap, Drop"
   ]
  },
  {
   "cell_type": "code",
   "execution_count": null,
   "id": "2966a6c2",
   "metadata": {},
   "outputs": [],
   "source": []
  }
 ],
 "metadata": {
  "kernelspec": {
   "display_name": "Python 3 (ipykernel)",
   "language": "python",
   "name": "python3"
  },
  "language_info": {
   "codemirror_mode": {
    "name": "ipython",
    "version": 3
   },
   "file_extension": ".py",
   "mimetype": "text/x-python",
   "name": "python",
   "nbconvert_exporter": "python",
   "pygments_lexer": "ipython3",
   "version": "3.9.12"
  }
 },
 "nbformat": 4,
 "nbformat_minor": 5
}
