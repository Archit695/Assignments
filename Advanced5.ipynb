{
 "cells": [
  {
   "cell_type": "raw",
   "id": "55fa50b8",
   "metadata": {},
   "source": [
    "1. What is the meaning of multiple inheritance?\n",
    "Ans: Inheritence is nothing but reusing the code of Parent class by the child class. Similary when a child class inherits its properties from multiple Parent classes this scenario is called Multiple Inheritence"
   ]
  },
  {
   "cell_type": "raw",
   "id": "0c8912fb",
   "metadata": {},
   "source": [
    "2. What is the concept of delegation?\n",
    "Ans: Delegation refers to the process of passing a method call from one object to another object that performs the actual behavior of the method. Delegation is a design pattern that allows objects to collaborate with each other in a flexible and dynamic way."
   ]
  },
  {
   "cell_type": "raw",
   "id": "6760d6eb",
   "metadata": {},
   "source": [
    "3. What is the concept of composition?\n",
    "Ans: In the concept of Composition, a class refers to one or more other classes by using instances of those classes as a instance variable. irrespective of inheritence in this approach all the parent class members are not inherited into child class, but only required methods from a class are used by using class instances."
   ]
  },
  {
   "cell_type": "raw",
   "id": "368ae60e",
   "metadata": {},
   "source": [
    "4. What are bound methods and how do we use them?\n",
    "Ans: If a function is an attribute of class and it is accessed via the instances, they are called bound methods. A bound method is one that has self as its first argument. Since these are dependent on the instance of classes, these are also known as instance methods."
   ]
  },
  {
   "cell_type": "raw",
   "id": "9d4f1b5c",
   "metadata": {},
   "source": [
    "5. What is the purpose of pseudoprivate attributes?\n",
    "Ans: Pseudoprivate attributes are also useful in larger frameworks or tools, both to avoid introducing new method names that might accidentally hide definitions elsewhere in the class tree and to reduce the chance of internal methods being replaced by names defined lower in the tree. If a method is intended for use only within a class that may be mixed into other classes, the double underscore prefix ensures that the method won't interfere with other names in the tree, especially in multiple-inheritance scenarios."
   ]
  }
 ],
 "metadata": {
  "kernelspec": {
   "display_name": "Python 3 (ipykernel)",
   "language": "python",
   "name": "python3"
  },
  "language_info": {
   "codemirror_mode": {
    "name": "ipython",
    "version": 3
   },
   "file_extension": ".py",
   "mimetype": "text/x-python",
   "name": "python",
   "nbconvert_exporter": "python",
   "pygments_lexer": "ipython3",
   "version": "3.9.12"
  }
 },
 "nbformat": 4,
 "nbformat_minor": 5
}
