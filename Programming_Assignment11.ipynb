{
 "cells": [
  {
   "cell_type": "code",
   "execution_count": 2,
   "id": "df56db35",
   "metadata": {},
   "outputs": [
    {
     "name": "stdout",
     "output_type": "stream",
     "text": [
      "Enter a string: completed my graduation and looking for a job\n",
      "Enter the length of the string: 4\n",
      "['completed', 'graduation', 'looking']\n"
     ]
    }
   ],
   "source": [
    "# 1. Write a Python program to find words which are greater than given length k?\n",
    "def length():\n",
    "    string = input(\"Enter a string: \")\n",
    "    in_length= eval(input(\"Enter the length of the string: \"))\n",
    "    output = []\n",
    "    for i in string.split():\n",
    "        if len(i)>in_length:\n",
    "            output.append(i)\n",
    "    print(output)\n",
    "length()"
   ]
  },
  {
   "cell_type": "code",
   "execution_count": 3,
   "id": "251ca28b",
   "metadata": {},
   "outputs": [
    {
     "name": "stdout",
     "output_type": "stream",
     "text": [
      "Enter a stringpython\n",
      "Enter the ith char to be removed: 3\n",
      "pyton\n"
     ]
    }
   ],
   "source": [
    "# 2. Write a Python program for removing i-th character from a string ?\n",
    "def rem():\n",
    "    string = input(\"Enter a string\")\n",
    "    char = int(input(\"Enter the ith char to be removed: \"))\n",
    "    a = string[:char]\n",
    "    b = string[char+1:]\n",
    "    print(a+b)\n",
    "rem()"
   ]
  },
  {
   "cell_type": "code",
   "execution_count": 6,
   "id": "f2f62eb3",
   "metadata": {},
   "outputs": [
    {
     "name": "stdout",
     "output_type": "stream",
     "text": [
      "Enter a stringWrite a Python program to split and join a string\n",
      "split string: ['Write', 'a', 'Python', 'program', 'to', 'split', 'and', 'join', 'a', 'string']\n",
      "join string: Write a Python program to split and join a string\n"
     ]
    }
   ],
   "source": [
    "# 3. Write a Python program to split and join a string ?\n",
    "def splitjoin():\n",
    "    string = input(\"Enter a string\")\n",
    "    print(f\"split string: {string.split(' ')}\")\n",
    "    print(f\"join string: {' '.join(string.split(' '))}\")\n",
    "splitjoin()"
   ]
  },
  {
   "cell_type": "code",
   "execution_count": 13,
   "id": "155540ac",
   "metadata": {},
   "outputs": [
    {
     "name": "stdout",
     "output_type": "stream",
     "text": [
      "Enter a string1101011 \n",
      "{'1', '0'}\n"
     ]
    },
    {
     "data": {
      "text/plain": [
       "True"
      ]
     },
     "execution_count": 13,
     "metadata": {},
     "output_type": "execute_result"
    }
   ],
   "source": [
    "# 4. Write a Python to check if a given string is binary string or not ?\n",
    "def binary():\n",
    "    string = input(\"Enter a string\").strip(\" \")\n",
    "    a = set(string)\n",
    "    print(a)\n",
    "    if (0 not in a) & (1 not in a) & (len(a)>2) :\n",
    "        return False\n",
    "    else:\n",
    "        return True\n",
    "binary()"
   ]
  },
  {
   "cell_type": "code",
   "execution_count": 19,
   "id": "39ea4367",
   "metadata": {},
   "outputs": [
    {
     "name": "stdout",
     "output_type": "stream",
     "text": [
      "Enter a string: Python program to find uncommon\n",
      "Enter a string: a Python program to find uncommon words from\n"
     ]
    },
    {
     "data": {
      "text/plain": [
       "['a', 'words', 'from']"
      ]
     },
     "execution_count": 19,
     "metadata": {},
     "output_type": "execute_result"
    }
   ],
   "source": [
    "# 5. Write a Python program to find uncommon words from two Strings?\n",
    "def uncommon():\n",
    "    a = input(\"Enter a string: \").split()\n",
    "    b = input(\"Enter a string: \").split()\n",
    "    c = []\n",
    "    for i in a:\n",
    "        if i not in b:\n",
    "            c.append(i)\n",
    "    for i in b:\n",
    "        if i not in a:\n",
    "            c.append(i)\n",
    "    return c\n",
    "uncommon()"
   ]
  },
  {
   "cell_type": "code",
   "execution_count": 32,
   "id": "07fee344",
   "metadata": {},
   "outputs": [
    {
     "name": "stdout",
     "output_type": "stream",
     "text": [
      "Enter a string: # 6. Write a Python to find all duplicate characters in string?\n",
      "non Duplicate characters are: ['W', 'a', 'o', 'r', 'c', 'p', 'g', 'f', 'e', ' ', 'n', 'u', '6', '.', '#', 't', 'l', 'y', 'i', 'h', 'P', 's', 'd', '?']\n",
      "Duplicate characters are: ['h', 'n', 'a', 'o', 'r', 'c', 'l', 't', 'd', 'e', 's', 'i', ' ']\n"
     ]
    }
   ],
   "source": [
    "\n",
    "# 6. Write a Python to find all duplicate characters in string? ?\n",
    "def duplicate():\n",
    "    a = input(\"Enter a string: \")\n",
    "    b = []\n",
    "    c = []\n",
    "    for i in a:\n",
    "        if i not in b:\n",
    "            b.append(i)\n",
    "        else:\n",
    "            c.append(i)\n",
    "    print(f'non Duplicate characters are: {list(set(b))}')\n",
    "\n",
    "    print(f'Duplicate characters are: {list(set(c))}')\n",
    "duplicate()"
   ]
  },
  {
   "cell_type": "code",
   "execution_count": 33,
   "id": "b62fb6fd",
   "metadata": {},
   "outputs": [
    {
     "name": "stdout",
     "output_type": "stream",
     "text": [
      "Enter the string: jhg[-0bvjh\n",
      "There are 1 Speical Characters in jhg[-0bvjh which are ['[']\n"
     ]
    }
   ],
   "source": [
    "# 7. Write a Python Program to check if a string contains any special character?\n",
    "def checkSpecialChar():\n",
    "    spl_chars = '[@_!#$%^&*()<>?/\\|}{~:]'\n",
    "    in_num = input('Enter the string: ')\n",
    "    count = 0\n",
    "    char_list = []\n",
    "    for ele in in_num:\n",
    "        if ele in spl_chars:\n",
    "            char_list.append(ele)\n",
    "            count = count+1\n",
    "    print(f'There are {count} Speical Characters in {in_num} which are {char_list}')\n",
    "            \n",
    "        \n",
    "checkSpecialChar()"
   ]
  },
  {
   "cell_type": "code",
   "execution_count": null,
   "id": "ca9643a7",
   "metadata": {},
   "outputs": [],
   "source": []
  }
 ],
 "metadata": {
  "kernelspec": {
   "display_name": "Python 3 (ipykernel)",
   "language": "python",
   "name": "python3"
  },
  "language_info": {
   "codemirror_mode": {
    "name": "ipython",
    "version": 3
   },
   "file_extension": ".py",
   "mimetype": "text/x-python",
   "name": "python",
   "nbconvert_exporter": "python",
   "pygments_lexer": "ipython3",
   "version": "3.9.12"
  }
 },
 "nbformat": 4,
 "nbformat_minor": 5
}
