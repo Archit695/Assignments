{
 "cells": [
  {
   "cell_type": "raw",
   "id": "0960259a",
   "metadata": {},
   "source": [
    " 1. Add the current date to the text file today.txt as a string."
   ]
  },
  {
   "cell_type": "code",
   "execution_count": 1,
   "id": "6ac313a3",
   "metadata": {},
   "outputs": [],
   "source": [
    "import datetime\n",
    "file = open('today.txt','w+')\n",
    "file.write(datetime.datetime.now().strftime(\"%d-%m-%Y\"))\n",
    "file.close()"
   ]
  },
  {
   "cell_type": "raw",
   "id": "49696fa1",
   "metadata": {},
   "source": [
    "2. Read the text file today.txt into the string today_string"
   ]
  },
  {
   "cell_type": "code",
   "execution_count": 2,
   "id": "ac6e017f",
   "metadata": {},
   "outputs": [
    {
     "name": "stdout",
     "output_type": "stream",
     "text": [
      "25-05-2023\n"
     ]
    }
   ],
   "source": [
    "file = open('today.txt','r')\n",
    "today_string = file.read()\n",
    "print(today_string)"
   ]
  },
  {
   "cell_type": "raw",
   "id": "a19ef7b6",
   "metadata": {},
   "source": [
    "3. Parse the date from today_string."
   ]
  },
  {
   "cell_type": "code",
   "execution_count": 3,
   "id": "1b2b2051",
   "metadata": {},
   "outputs": [
    {
     "name": "stdout",
     "output_type": "stream",
     "text": [
      "2023-05-25 00:00:00\n"
     ]
    }
   ],
   "source": [
    "from datetime import datetime\n",
    "print(datetime.strptime(today_string,\"%d-%m-%Y\"))"
   ]
  },
  {
   "cell_type": "raw",
   "id": "454eaf84",
   "metadata": {},
   "source": [
    "4. List the files in your current directory"
   ]
  },
  {
   "cell_type": "code",
   "execution_count": 4,
   "id": "a38537ed",
   "metadata": {},
   "outputs": [
    {
     "name": "stdout",
     "output_type": "stream",
     "text": [
      "Advanced1.ipynb\n",
      "Advanced10.ipynb\n",
      "Advanced11.ipynb\n",
      "Advanced2.ipynb\n",
      "Advanced3.ipynb\n",
      "Advanced4.ipynb\n",
      "Advanced5.ipynb\n",
      "Advanced6.ipynb\n",
      "Advanced7.ipynb\n",
      "Advanced8.ipynb\n",
      "Advanced9.ipynb\n",
      "Assignment1.ipynb\n",
      "Assignment11.ipynb\n",
      "Assignment13.ipynb\n",
      "Assignment15.ipynb\n",
      "Assignment16.ipynb\n",
      "Assignment17.ipynb\n",
      "Assignment18.ipynb\n",
      "Assignment19.ipynb\n",
      "Assignment2.ipynb\n",
      "Assignment20.ipynb\n",
      "Assignment21.ipynb\n",
      "Assignment22.ipynb\n",
      "Assignment23.ipynb\n",
      "Assignment24.ipynb\n",
      "Assignment25.ipynb\n",
      "Assignment3.ipynb\n",
      "Assignment4.ipynb\n",
      "Assignment5.ipynb\n",
      "Assignment6.ipynb\n",
      "Assignment7.ipynb\n",
      "Assignment9.ipynb\n",
      "books.csv\n",
      "books.db\n",
      "Programming_Assignment1.ipynb\n",
      "Programming_Assignment2.ipynb\n",
      "Programming_Assignment3.ipynb\n",
      "Programming_Assignment4.ipynb\n",
      "Programming_Assignment5.ipynb\n",
      "Programming_assignment6.ipynb\n",
      "Programming_Assignment7.ipynb\n",
      "Programming_Assignment8.ipynb\n",
      "Programming_Assignment9.ipynb\n",
      "test.txt\n",
      "today.txt\n",
      "zoo.py\n",
      "Advanced1-checkpoint.ipynb\n",
      "Advanced10-checkpoint.ipynb\n",
      "Advanced11-checkpoint.ipynb\n",
      "Advanced2-checkpoint.ipynb\n",
      "Advanced3-checkpoint.ipynb\n",
      "Advanced4-checkpoint.ipynb\n",
      "Advanced5-checkpoint.ipynb\n",
      "Advanced6-checkpoint.ipynb\n",
      "Advanced7-checkpoint.ipynb\n",
      "Advanced8-checkpoint.ipynb\n",
      "Advanced9-checkpoint.ipynb\n",
      "Assignment1-checkpoint.ipynb\n",
      "Assignment11-checkpoint.ipynb\n",
      "Assignment13-checkpoint.ipynb\n",
      "Assignment15-checkpoint.ipynb\n",
      "Assignment16-checkpoint.ipynb\n",
      "Assignment17-checkpoint.ipynb\n",
      "Assignment18-checkpoint.ipynb\n",
      "Assignment19-checkpoint.ipynb\n",
      "Assignment2-checkpoint.ipynb\n",
      "Assignment20-checkpoint.ipynb\n",
      "Assignment21-checkpoint.ipynb\n",
      "Assignment22-checkpoint.ipynb\n",
      "Assignment23-checkpoint.ipynb\n",
      "Assignment24-checkpoint.ipynb\n",
      "Assignment25-checkpoint.ipynb\n",
      "Assignment3-checkpoint.ipynb\n",
      "Assignment4-checkpoint.ipynb\n",
      "Assignment5-checkpoint.ipynb\n",
      "Assignment6-checkpoint.ipynb\n",
      "Assignment7-checkpoint.ipynb\n",
      "Assignment9-checkpoint.ipynb\n",
      "Programming_Assignment1-checkpoint.ipynb\n",
      "Programming_Assignment2-checkpoint.ipynb\n",
      "Programming_Assignment3-checkpoint.ipynb\n",
      "Programming_Assignment4-checkpoint.ipynb\n",
      "Programming_Assignment5-checkpoint.ipynb\n",
      "Programming_assignment6-checkpoint.ipynb\n",
      "Programming_Assignment7-checkpoint.ipynb\n",
      "Programming_Assignment8-checkpoint.ipynb\n",
      "Programming_Assignment9-checkpoint.ipynb\n",
      "zoo-checkpoint.ipynb\n",
      "zoo.cpython-39.pyc\n"
     ]
    }
   ],
   "source": [
    "import os\n",
    "for folders, subfolders, files in os.walk(os.getcwd()):\n",
    "    for file in files:\n",
    "        print(file)"
   ]
  },
  {
   "cell_type": "raw",
   "id": "1133dc99",
   "metadata": {},
   "source": [
    "5. Create a list of all of the files in your parent directory (minimum five files should be available)."
   ]
  },
  {
   "cell_type": "code",
   "execution_count": 5,
   "id": "306b82e7",
   "metadata": {},
   "outputs": [
    {
     "data": {
      "text/plain": [
       "['.ipynb_checkpoints',\n",
       " 'Advanced1.ipynb',\n",
       " 'Advanced10.ipynb',\n",
       " 'Advanced11.ipynb',\n",
       " 'Advanced2.ipynb',\n",
       " 'Advanced3.ipynb',\n",
       " 'Advanced4.ipynb',\n",
       " 'Advanced5.ipynb',\n",
       " 'Advanced6.ipynb',\n",
       " 'Advanced7.ipynb',\n",
       " 'Advanced8.ipynb',\n",
       " 'Advanced9.ipynb',\n",
       " 'Assignment1.ipynb',\n",
       " 'Assignment11.ipynb',\n",
       " 'Assignment13.ipynb',\n",
       " 'Assignment15.ipynb',\n",
       " 'Assignment16.ipynb',\n",
       " 'Assignment17.ipynb',\n",
       " 'Assignment18.ipynb',\n",
       " 'Assignment19.ipynb',\n",
       " 'Assignment2.ipynb',\n",
       " 'Assignment20.ipynb',\n",
       " 'Assignment21.ipynb',\n",
       " 'Assignment22.ipynb',\n",
       " 'Assignment23.ipynb',\n",
       " 'Assignment24.ipynb',\n",
       " 'Assignment25.ipynb',\n",
       " 'Assignment3.ipynb',\n",
       " 'Assignment4.ipynb',\n",
       " 'Assignment5.ipynb',\n",
       " 'Assignment6.ipynb',\n",
       " 'Assignment7.ipynb',\n",
       " 'Assignment9.ipynb',\n",
       " 'books.csv',\n",
       " 'books.db',\n",
       " 'Programming_Assignment1.ipynb',\n",
       " 'Programming_Assignment2.ipynb',\n",
       " 'Programming_Assignment3.ipynb',\n",
       " 'Programming_Assignment4.ipynb',\n",
       " 'Programming_Assignment5.ipynb',\n",
       " 'Programming_assignment6.ipynb',\n",
       " 'Programming_Assignment7.ipynb',\n",
       " 'Programming_Assignment8.ipynb',\n",
       " 'Programming_Assignment9.ipynb',\n",
       " 'test.txt',\n",
       " 'today.txt',\n",
       " 'zoo.py',\n",
       " '__pycache__']"
      ]
     },
     "execution_count": 5,
     "metadata": {},
     "output_type": "execute_result"
    }
   ],
   "source": [
    "os.listdir()"
   ]
  },
  {
   "cell_type": "raw",
   "id": "082d985b",
   "metadata": {},
   "source": [
    "6. Use multiprocessing to create three separate processes. Make each one wait a random number of seconds between one and five, print the current time, and then exit."
   ]
  },
  {
   "cell_type": "raw",
   "id": "4ddbe1b7",
   "metadata": {},
   "source": [
    "7.Create a date object of your day of birth."
   ]
  },
  {
   "cell_type": "code",
   "execution_count": 8,
   "id": "2a771f52",
   "metadata": {},
   "outputs": [
    {
     "name": "stdout",
     "output_type": "stream",
     "text": [
      "2000-12-04 00:00:00\n"
     ]
    }
   ],
   "source": [
    "from datetime import datetime\n",
    "dob = datetime(2000,12,4)\n",
    "print(dob)"
   ]
  },
  {
   "cell_type": "raw",
   "id": "e32e607e",
   "metadata": {},
   "source": [
    "8. What day of the week was your day of birth?"
   ]
  },
  {
   "cell_type": "code",
   "execution_count": 11,
   "id": "67e2e90b",
   "metadata": {},
   "outputs": [
    {
     "data": {
      "text/plain": [
       "'Monday'"
      ]
     },
     "execution_count": 11,
     "metadata": {},
     "output_type": "execute_result"
    }
   ],
   "source": [
    "dob = datetime(2000,12,4)\n",
    "dob.strftime('%A')"
   ]
  },
  {
   "cell_type": "raw",
   "id": "2078ff0a",
   "metadata": {},
   "source": [
    "9. When will you be (or when were you) 10,000 days old?"
   ]
  },
  {
   "cell_type": "code",
   "execution_count": 17,
   "id": "b4f392d8",
   "metadata": {},
   "outputs": [
    {
     "name": "stdout",
     "output_type": "stream",
     "text": [
      "2028-04-21 00:00:00\n"
     ]
    }
   ],
   "source": [
    "from datetime import datetime, timedelta,date\n",
    "dob = datetime(2000,12,4)\n",
    "pred = dob+timedelta(days=10000)\n",
    "print(pred)"
   ]
  },
  {
   "cell_type": "code",
   "execution_count": null,
   "id": "55df0933",
   "metadata": {},
   "outputs": [],
   "source": []
  }
 ],
 "metadata": {
  "kernelspec": {
   "display_name": "Python 3 (ipykernel)",
   "language": "python",
   "name": "python3"
  },
  "language_info": {
   "codemirror_mode": {
    "name": "ipython",
    "version": 3
   },
   "file_extension": ".py",
   "mimetype": "text/x-python",
   "name": "python",
   "nbconvert_exporter": "python",
   "pygments_lexer": "ipython3",
   "version": "3.9.12"
  }
 },
 "nbformat": 4,
 "nbformat_minor": 5
}
