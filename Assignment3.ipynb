{
 "cells": [
  {
   "cell_type": "raw",
   "id": "f0f8bf4e",
   "metadata": {},
   "source": [
    "1. Why are functions advantageous to have in your programs?\n",
    "S. Functions reduce the need for duplicate code. This makes programs shorter, easier to read, and easier to update. The main advantage of functions is code Reusability."
   ]
  },
  {
   "cell_type": "raw",
   "id": "98376eef",
   "metadata": {},
   "source": [
    "2. When does the code in a function run: when it's specified or when it's called?\n",
    "S. The code in a function executes when the function is called, not when the function is specified."
   ]
  },
  {
   "cell_type": "raw",
   "id": "bd465744",
   "metadata": {},
   "source": [
    "3. What statement creates a function?\n",
    "S.  def"
   ]
  },
  {
   "cell_type": "raw",
   "id": "46205f06",
   "metadata": {},
   "source": [
    "4. What is the difference between a function and a function call?\n",
    "S. A function is procedure to achieve a particular result. Using a function to do a particular task any point in program is called as function call."
   ]
  },
  {
   "cell_type": "raw",
   "id": "e0880ee0",
   "metadata": {},
   "source": [
    "5. How many global scopes are there in a Python program? How many local scopes?\n",
    "S. There is one global scope per program execution, and a local scope is created whenever a function is called."
   ]
  },
  {
   "cell_type": "raw",
   "id": "cf39f44a",
   "metadata": {},
   "source": [
    "6. What happens to variables in a local scope when the function call returns?\n",
    "S. When a function returns, the local scope is destroyed, and all the variables in it are forgotten."
   ]
  },
  {
   "cell_type": "raw",
   "id": "8b77244a",
   "metadata": {},
   "source": [
    "7. What is the concept of a return value? Is it possible to have a return value in an expression?\n",
    "S. A return value is the value that a function call evaluates to. Like any value, a return value can be used as part of an expression."
   ]
  },
  {
   "cell_type": "raw",
   "id": "9fea42bc",
   "metadata": {},
   "source": [
    "8. If a function does not have a return statement, what is the return value of a call to that function?\n",
    "S.  If there is no return statement for a function, its return value is None."
   ]
  },
  {
   "cell_type": "raw",
   "id": "c0409ea4",
   "metadata": {},
   "source": [
    "9. How do you make a function variable refer to the global variable?\n",
    "S. Use the global keyword to declare variables global."
   ]
  },
  {
   "cell_type": "raw",
   "id": "3d18dc43",
   "metadata": {},
   "source": [
    "10. What is the data type of None?\n",
    "S. The data type of None is NoneType."
   ]
  },
  {
   "cell_type": "raw",
   "id": "5ec921b1",
   "metadata": {},
   "source": [
    "11. What does the sentence import areallyourpetsnamederic do?\n",
    "S. The import statement imports a module named areallyourpetsnamederic."
   ]
  },
  {
   "cell_type": "raw",
   "id": "0ec96d8d",
   "metadata": {},
   "source": [
    "12. If you had a bacon() feature in a spam module, what would you call it after importing spam?\n",
    "S. spam.bacon()"
   ]
  },
  {
   "cell_type": "raw",
   "id": "4a17b76d",
   "metadata": {},
   "source": [
    "13. What can you do to save a programme from crashing if it encounters an error?\n",
    "S. Place the line of code that might cause an error in a try clause and use except block to handle the error.When it encounters an error, the control is passed to the except block, skipping the code in between."
   ]
  },
  {
   "cell_type": "raw",
   "id": "db597125",
   "metadata": {},
   "source": [
    "14. What is the purpose of the try clause? What is the purpose of the except clause?\n",
    "S. The code that could potentially cause an error goes in the try clause. The code that executes if an error happens goes in the except clause."
   ]
  }
 ],
 "metadata": {
  "kernelspec": {
   "display_name": "Python 3 (ipykernel)",
   "language": "python",
   "name": "python3"
  },
  "language_info": {
   "codemirror_mode": {
    "name": "ipython",
    "version": 3
   },
   "file_extension": ".py",
   "mimetype": "text/x-python",
   "name": "python",
   "nbconvert_exporter": "python",
   "pygments_lexer": "ipython3",
   "version": "3.9.12"
  }
 },
 "nbformat": 4,
 "nbformat_minor": 5
}
