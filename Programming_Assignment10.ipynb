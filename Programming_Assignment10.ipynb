{
 "cells": [
  {
   "cell_type": "code",
   "execution_count": 1,
   "id": "312f2953",
   "metadata": {},
   "outputs": [
    {
     "name": "stdout",
     "output_type": "stream",
     "text": [
      "Enter the total number of elements for list: 4\n",
      "Enter element: 565\n",
      "Enter element: 23\n",
      "Enter element: 1\n",
      "Enter element: 35\n",
      "Sum of Elements:624\n"
     ]
    }
   ],
   "source": [
    "# 1. Write a Python program to find sum of elements in list?\n",
    "\n",
    "def total():\n",
    "    ele = int(input(\"Enter the total number of elements for list: \"))\n",
    "     \n",
    "    l = []\n",
    "    for i in range(ele):\n",
    "        l.append(int(input(\"Enter element: \")))\n",
    "        \n",
    "    print(f'Sum of Elements:{sum(l)}')\n",
    "total()"
   ]
  },
  {
   "cell_type": "code",
   "execution_count": 2,
   "id": "4da3a10e",
   "metadata": {},
   "outputs": [
    {
     "name": "stdout",
     "output_type": "stream",
     "text": [
      "enter the numbers of elements for list: 4\n",
      "Enter the element: 265\n",
      "Enter the element: 2623\n",
      "Enter the element: 6\n",
      "Enter the element: 565\n",
      "2356372050\n"
     ]
    }
   ],
   "source": [
    "# 2. Write a Python program to Multiply all numbers in the list?\n",
    "def mul():\n",
    "    ele = int(input(\"enter the numbers of elements for list: \"))\n",
    "    l = []\n",
    "    res = 1\n",
    "    for i in range(ele):\n",
    "        l.append(int(input(\"Enter the element: \")))\n",
    "    for j in l:\n",
    "        res = res * j\n",
    "    print(res)\n",
    "mul()"
   ]
  },
  {
   "cell_type": "code",
   "execution_count": 3,
   "id": "9cc0a2d5",
   "metadata": {},
   "outputs": [
    {
     "name": "stdout",
     "output_type": "stream",
     "text": [
      "enter the numbers of elements for list: 3\n",
      "Enter the element: 6532\n",
      "Enter the element: 65\n",
      "Enter the element: 3\n",
      "[6532, 65, 3] 3\n"
     ]
    }
   ],
   "source": [
    "# 3. Write a Python program to find smallest number in a list?\n",
    "def small():\n",
    "    ele = int(input(\"enter the numbers of elements for list: \"))\n",
    "    l = []\n",
    "   \n",
    "    for i in range(ele):\n",
    "        l.append(int(input(\"Enter the element: \")))\n",
    "    print(l,sorted(l)[0])\n",
    "    \n",
    "small()"
   ]
  },
  {
   "cell_type": "code",
   "execution_count": 7,
   "id": "4dbcf772",
   "metadata": {},
   "outputs": [
    {
     "name": "stdout",
     "output_type": "stream",
     "text": [
      "Enter number of elements for list: 6\n",
      "Enter the element: 562\n",
      "Enter the element: 322\n",
      "Enter the element: 1\n",
      "Enter the element: 8888\n",
      "Enter the element: 9999\n",
      "Enter the element: 56\n",
      "[562, 322, 1, 8888, 9999, 56]\n",
      "9999\n"
     ]
    }
   ],
   "source": [
    "# 4. Write a Python program to find largest number in a list?\n",
    "def largest():\n",
    "    ele = int(input(\"Enter number of elements for list: \"))\n",
    "    l =[]\n",
    "    for i in range(ele):\n",
    "        l.append(int(input(\"Enter the element: \")))\n",
    "    print(l)\n",
    "    print(sorted(l)[-1])\n",
    "largest()"
   ]
  },
  {
   "cell_type": "code",
   "execution_count": 9,
   "id": "c824b9a7",
   "metadata": {},
   "outputs": [
    {
     "name": "stdout",
     "output_type": "stream",
     "text": [
      "Enter number of elements for list: 6\n",
      "Enter the element: 562\n",
      "Enter the element: 322\n",
      "Enter the element: 1\n",
      "Enter the element: 8888\n",
      "Enter the element: 9999\n",
      "Enter the element: 56\n",
      "[562, 322, 1, 8888, 9999, 56]\n",
      "8888\n"
     ]
    }
   ],
   "source": [
    "# 5. Write a Python program to find second largest number in a list?\n",
    "def largest():\n",
    "    ele = int(input(\"Enter number of elements for list: \"))\n",
    "    l =[]\n",
    "    for i in range(ele):\n",
    "        l.append(int(input(\"Enter the element: \")))\n",
    "    print(l)\n",
    "    print(sorted(l)[-2])\n",
    "largest()"
   ]
  },
  {
   "cell_type": "code",
   "execution_count": 2,
   "id": "520da1ba",
   "metadata": {},
   "outputs": [
    {
     "name": "stdout",
     "output_type": "stream",
     "text": [
      "Enter number of elements for list: 6\n",
      "Enter the element: 5\n",
      "Enter the element: 6\n",
      "Enter the element: 9\n",
      "Enter the element: 5\n",
      "Enter the element: 8\n",
      "Enter the element: 1\n",
      "[5, 6, 9, 5, 8, 1] [9, 8, 6]\n"
     ]
    }
   ],
   "source": [
    "# 6. Write a Python program to find N largest elements from a list?\n",
    "def N_largest(n):\n",
    "\n",
    "    ele = int(input(\"Enter number of elements for list: \"))\n",
    "    l =[]\n",
    "    for i in range(ele):\n",
    "        l.append(int(input(\"Enter the element: \")))  \n",
    "    print(l,sorted(l,reverse=True)[0:n])\n",
    "N_largest(3)\n"
   ]
  },
  {
   "cell_type": "code",
   "execution_count": 7,
   "id": "714d4eec",
   "metadata": {},
   "outputs": [
    {
     "name": "stdout",
     "output_type": "stream",
     "text": [
      "Enter number of elements to be in the list: 6\n",
      "Enter a element: 1\n",
      "Enter a element: 2\n",
      "Enter a element: 3\n",
      "Enter a element: 4\n",
      "Enter a element: 5\n",
      "Enter a element: 6\n",
      "[1, 2, 3, 4, 5, 6] [2, 4, 6]\n"
     ]
    }
   ],
   "source": [
    "# 7. Write a Python program to print even numbers in a list?\n",
    "\n",
    "def even():\n",
    "    ele = int(input(\"Enter number of elements to be in the list: \"))\n",
    "    l = []\n",
    "    el = []\n",
    "    for i in range(ele):\n",
    "        l.append(int(input(\"Enter a element: \")))\n",
    "       \n",
    "    for j in l:\n",
    "        if j%2==0:\n",
    "            el.append(j)\n",
    "    print(l,el)\n",
    "even()"
   ]
  },
  {
   "cell_type": "code",
   "execution_count": 8,
   "id": "caf41262",
   "metadata": {},
   "outputs": [
    {
     "name": "stdout",
     "output_type": "stream",
     "text": [
      "Enter number of elements to be in the list: 6\n",
      "Enter a element: 1\n",
      "Enter a element: 2\n",
      "Enter a element: 3\n",
      "Enter a element: 4\n",
      "Enter a element: 5\n",
      "Enter a element: 6\n",
      "[1, 2, 3, 4, 5, 6] [1, 3, 5]\n"
     ]
    }
   ],
   "source": [
    "# 8. Write a Python program to print odd numbers in a List?\n",
    "def even():\n",
    "    ele = int(input(\"Enter number of elements to be in the list: \"))\n",
    "    l = []\n",
    "    el = []\n",
    "    for i in range(ele):\n",
    "        l.append(int(input(\"Enter a element: \")))\n",
    "       \n",
    "    for j in l:\n",
    "        if j%2!=0:\n",
    "            \n",
    "            el.append(j)\n",
    "    print(l,el)\n",
    "even()"
   ]
  },
  {
   "cell_type": "code",
   "execution_count": 10,
   "id": "d69f533b",
   "metadata": {
    "scrolled": true
   },
   "outputs": [
    {
     "name": "stdout",
     "output_type": "stream",
     "text": [
      "Enter all elements of the list: [6,5,8,[5,6,22],[],26]\n",
      "There is an Empty list in [6, 5, 8, [5, 6, 22], [], 26] at Position 4\n",
      "The List after removing [] is [6, 5, 8, [5, 6, 22], 26]\n"
     ]
    }
   ],
   "source": [
    "# 9. Write a Python program to Remove empty List from List?\n",
    "def checkEmptyList():\n",
    "    in_list = eval(input('Enter all elements of the list: '))\n",
    "    if [] in in_list:\n",
    "        print(f'There is an Empty list in {in_list} at Position {in_list.index([])}')\n",
    "        in_list.remove([])\n",
    "        print(f'The List after removing [] is {in_list}')\n",
    "    else:\n",
    "        print(f'There is no [] List in the list {in_list}')\n",
    "        \n",
    "checkEmptyList()"
   ]
  },
  {
   "cell_type": "code",
   "execution_count": 13,
   "id": "e9ca2f14",
   "metadata": {},
   "outputs": [
    {
     "name": "stdout",
     "output_type": "stream",
     "text": [
      "Enter list: 59,5,6,4,24,8452,48\n"
     ]
    },
    {
     "data": {
      "text/plain": [
       "((59, 5, 6, 4, 24, 8452, 48), (59, 5, 6, 4, 24, 8452, 48))"
      ]
     },
     "execution_count": 13,
     "metadata": {},
     "output_type": "execute_result"
    }
   ],
   "source": [
    "# 10. Write a Python program to Cloning or Copying a list?\n",
    "def copylist():\n",
    "    l = eval(input(\"Enter list: \"))\n",
    "    lcopy = l[:]\n",
    "    return l,lcopy\n",
    "copylist()"
   ]
  },
  {
   "cell_type": "code",
   "execution_count": 16,
   "id": "8feeab0a",
   "metadata": {},
   "outputs": [
    {
     "name": "stdout",
     "output_type": "stream",
     "text": [
      "Enter list: 5,65,55,65521\n"
     ]
    },
    {
     "data": {
      "text/plain": [
       "(5, 65, 55, 65521)"
      ]
     },
     "execution_count": 16,
     "metadata": {},
     "output_type": "execute_result"
    }
   ],
   "source": [
    "import copy    \n",
    "def cop():\n",
    "    l = eval(input(\"Enter list: \"))\n",
    "    l2 = copy.copy(l)\n",
    "    return l2\n",
    "cop()"
   ]
  },
  {
   "cell_type": "code",
   "execution_count": 2,
   "id": "42ab3e7e",
   "metadata": {},
   "outputs": [
    {
     "name": "stdout",
     "output_type": "stream",
     "text": [
      "Enter the elements of the list: 5,6,9,7,4,5,6,6,6,6,7\n",
      "Enter the element to find: 6\n",
      "There are 5 occurences of 6 in (5, 6, 9, 7, 4, 5, 6, 6, 6, 6, 7)\n"
     ]
    }
   ],
   "source": [
    "# 11. Write a Python program to Count occurrences of an element in a list?\n",
    "def checkOccurence():\n",
    "    in_list = eval(input('Enter the elements of the list: '))\n",
    "    in_num = eval(input('Enter the element to find: '))\n",
    "    count = 0\n",
    "    if in_num in in_list:\n",
    "        for ele in in_list:\n",
    "            if ele == in_num:\n",
    "                count = count+1\n",
    "    print(f'There are {count} occurences of {in_num} in {in_list}')\n",
    "    \n",
    "checkOccurence()"
   ]
  },
  {
   "cell_type": "code",
   "execution_count": null,
   "id": "3bd2d9a1",
   "metadata": {},
   "outputs": [],
   "source": []
  }
 ],
 "metadata": {
  "kernelspec": {
   "display_name": "Python 3 (ipykernel)",
   "language": "python",
   "name": "python3"
  },
  "language_info": {
   "codemirror_mode": {
    "name": "ipython",
    "version": 3
   },
   "file_extension": ".py",
   "mimetype": "text/x-python",
   "name": "python",
   "nbconvert_exporter": "python",
   "pygments_lexer": "ipython3",
   "version": "3.9.12"
  }
 },
 "nbformat": 4,
 "nbformat_minor": 5
}
