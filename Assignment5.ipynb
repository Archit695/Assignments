{
 "cells": [
  {
   "cell_type": "raw",
   "id": "963979c9",
   "metadata": {},
   "source": [
    "1. What does an empty dictionary's code look like?\n",
    "S. dict = {}"
   ]
  },
  {
   "cell_type": "raw",
   "id": "dee5c4ea",
   "metadata": {},
   "source": [
    "2. What is the value of a dictionary value with the key 'foo' and the value 42?\n",
    "S. {'foo':42}"
   ]
  },
  {
   "cell_type": "raw",
   "id": "21116f7e",
   "metadata": {},
   "source": [
    "3. What is the most significant distinction between a dictionary and a list?\n",
    "S. Dictionaries are represented by {} where as list are represented by []. The Items stored in a dictionary are Unordered , while the items in a list are ordered."
   ]
  },
  {
   "cell_type": "raw",
   "id": "a10e69ed",
   "metadata": {},
   "source": [
    "4. What happens if you try to access spam['foo'] if spam is {'bar':100} ?\n",
    "S. KeyError: 'foo'"
   ]
  },
  {
   "cell_type": "code",
   "execution_count": 1,
   "id": "da24bbb3",
   "metadata": {},
   "outputs": [
    {
     "ename": "KeyError",
     "evalue": "'foo'",
     "output_type": "error",
     "traceback": [
      "\u001b[1;31m---------------------------------------------------------------------------\u001b[0m",
      "\u001b[1;31mKeyError\u001b[0m                                  Traceback (most recent call last)",
      "Input \u001b[1;32mIn [1]\u001b[0m, in \u001b[0;36m<cell line: 2>\u001b[1;34m()\u001b[0m\n\u001b[0;32m      1\u001b[0m spam \u001b[38;5;241m=\u001b[39m {\u001b[38;5;124m'\u001b[39m\u001b[38;5;124mbar\u001b[39m\u001b[38;5;124m'\u001b[39m:\u001b[38;5;241m100\u001b[39m}\n\u001b[1;32m----> 2\u001b[0m \u001b[43mspam\u001b[49m\u001b[43m \u001b[49m\u001b[43m[\u001b[49m\u001b[38;5;124;43m'\u001b[39;49m\u001b[38;5;124;43mfoo\u001b[39;49m\u001b[38;5;124;43m'\u001b[39;49m\u001b[43m]\u001b[49m\n",
      "\u001b[1;31mKeyError\u001b[0m: 'foo'"
     ]
    }
   ],
   "source": [
    "spam = {'bar':100}\n",
    "spam['foo'] "
   ]
  },
  {
   "cell_type": "raw",
   "id": "c279ae2e",
   "metadata": {},
   "source": [
    "5. If a dictionary is stored in spam,what is the difference between the expressions 'cat' in spam and 'cat' in spam.keys() ?\n",
    "S. There is no difference . The operator checks whether a value exits as a key in the dictionary or not."
   ]
  },
  {
   "cell_type": "raw",
   "id": "95c9864e",
   "metadata": {},
   "source": [
    "6. If a dictionary is stored in spam,what is the difference between the expressions 'cat' in spam and 'cat' in spam.values() ?\n",
    "S. 'cat' in spam checks whether there is a 'cat' key in the dictionary, while 'cat' in spam.values() checks whether there is a value 'cat' for one of the keys in spam."
   ]
  },
  {
   "cell_type": "raw",
   "id": "6dfd7994",
   "metadata": {},
   "source": [
    "7.what is a shortcut for the following code ?\n",
    "if 'color' not in spam:\n",
    "    spam['color'] ='black'\n",
    " \n",
    "S. spam.default('color','black')"
   ]
  },
  {
   "cell_type": "raw",
   "id": "2417eb27",
   "metadata": {},
   "source": [
    "8. How do you \"pretty print\" dictionary values using which module and function?\n",
    "S. By using pprint() function of pprint module."
   ]
  }
 ],
 "metadata": {
  "kernelspec": {
   "display_name": "Python 3 (ipykernel)",
   "language": "python",
   "name": "python3"
  },
  "language_info": {
   "codemirror_mode": {
    "name": "ipython",
    "version": 3
   },
   "file_extension": ".py",
   "mimetype": "text/x-python",
   "name": "python",
   "nbconvert_exporter": "python",
   "pygments_lexer": "ipython3",
   "version": "3.9.12"
  }
 },
 "nbformat": 4,
 "nbformat_minor": 5
}
