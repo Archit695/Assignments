{
 "cells": [
  {
   "cell_type": "code",
   "execution_count": 1,
   "id": "9ef7697b",
   "metadata": {},
   "outputs": [
    {
     "name": "stdout",
     "output_type": "stream",
     "text": [
      "Sum of all elemnts in an array is: 15\n"
     ]
    }
   ],
   "source": [
    "# 1. Write a Python Program to find sum of array?\n",
    "arr = [1,2,3,4,5]\n",
    "sum = 0\n",
    "for i in range(0,len(arr)):\n",
    "    sum = sum+arr[i]\n",
    "print(f\"Sum of all elemnts in an array is: {sum}\")"
   ]
  },
  {
   "cell_type": "code",
   "execution_count": 2,
   "id": "91bc8020",
   "metadata": {},
   "outputs": [
    {
     "name": "stdout",
     "output_type": "stream",
     "text": [
      "Largest number in an array is: 105\n"
     ]
    }
   ],
   "source": [
    "# 2. Write a Python Program to find largest element in an array?\n",
    "arr = [1,2,3,5,6,9,105]\n",
    "max = arr[0]\n",
    "for i in range(0,len(arr)):\n",
    "    if arr[i]>max:\n",
    "        max=arr[i]\n",
    "print(f\"Largest number in an array is: {max}\")"
   ]
  },
  {
   "cell_type": "code",
   "execution_count": 3,
   "id": "de164078",
   "metadata": {},
   "outputs": [
    {
     "name": "stdout",
     "output_type": "stream",
     "text": [
      "[486, 48959, 4259, 129, 95, 59, 5, 1]\n"
     ]
    }
   ],
   "source": [
    "# 3. Write a Python Program for array rotation?\n",
    "arr = [1,5,59,95,129,4259,48959,486]\n",
    "print(arr[::-1])"
   ]
  },
  {
   "cell_type": "code",
   "execution_count": 4,
   "id": "6defc777",
   "metadata": {
    "scrolled": true
   },
   "outputs": [
    {
     "name": "stdout",
     "output_type": "stream",
     "text": [
      "Enter the array: [1,2,3,4,5]\n",
      "The Sum of First and Last Elements of Array [1, 2, 3, 4, 5] is 6\n"
     ]
    }
   ],
   "source": [
    "#  4. Write a Python Program to Split the array and add the first part to the end ?\n",
    "def Sum():\n",
    "    array = eval(input(\"Enter the array: \"))\n",
    "    print(f\"The Sum of First and Last Elements of Array {array} is {array[0]+array[-1]}\")\n",
    "Sum()"
   ]
  },
  {
   "cell_type": "code",
   "execution_count": 5,
   "id": "ff83c560",
   "metadata": {},
   "outputs": [
    {
     "name": "stdout",
     "output_type": "stream",
     "text": [
      "Enter the array: [1,2,3,5,6,9,55,66,77,88]\n",
      "Array [1, 2, 3, 5, 6, 9, 55, 66, 77, 88] is monotonic.\n"
     ]
    }
   ],
   "source": [
    "# 5. Write a Python Program to check if given array is Monotonic ?\n",
    "def monotonic():\n",
    "    array = eval(input(\"Enter the array: \"))\n",
    "    if(all(array[i]<=array[i+1] for i in range(len(array)-1)) or (all(array[i]>=array[i+i] for i in range(len(array)-1)))):\n",
    "        print(f\"Array {array} is monotonic.\")\n",
    "    else:\n",
    "        print(f'Array {array} is non monotonic.')\n",
    "monotonic()"
   ]
  },
  {
   "cell_type": "code",
   "execution_count": null,
   "id": "b3bcbc5c",
   "metadata": {},
   "outputs": [],
   "source": []
  }
 ],
 "metadata": {
  "kernelspec": {
   "display_name": "Python 3 (ipykernel)",
   "language": "python",
   "name": "python3"
  },
  "language_info": {
   "codemirror_mode": {
    "name": "ipython",
    "version": 3
   },
   "file_extension": ".py",
   "mimetype": "text/x-python",
   "name": "python",
   "nbconvert_exporter": "python",
   "pygments_lexer": "ipython3",
   "version": "3.9.12"
  }
 },
 "nbformat": 4,
 "nbformat_minor": 5
}
