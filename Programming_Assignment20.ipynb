{
 "cells": [
  {
   "cell_type": "raw",
   "id": "50bcb955",
   "metadata": {},
   "source": [
    "1.Create a function that takes a list of strings and integers, and filters out the list so that it returns a list of integers only.\n",
    "Examples:\n",
    "filter_list([1, 2, 3, \"a\", \"b\", 4]) ➞ [1, 2, 3, 4]\n",
    "filter_list([\"A\", 0, \"Edabit\", 1729, \"Python\", \"1729\"]) ➞ [0, 1729]\n",
    "filter_list([\"Nothing\", \"here\"]) ➞ []"
   ]
  },
  {
   "cell_type": "code",
   "execution_count": 1,
   "id": "ecb9d302",
   "metadata": {},
   "outputs": [
    {
     "name": "stdout",
     "output_type": "stream",
     "text": [
      "[1, 2, 3, 'a', 'b', 4] --> [1, 2, 3, 4]\n",
      "['A', 0, 'Edabit', 1729, 'Python', '1729'] --> [0, 1729]\n",
      "['Nothing', 'here'] --> []\n"
     ]
    }
   ],
   "source": [
    "def filter_list(l):\n",
    "    o = []\n",
    "    for i in l:\n",
    "        if type(i)==int:\n",
    "            o.append(i)\n",
    "    print(f'{l} --> {o}')\n",
    "filter_list([1, 2, 3, \"a\", \"b\", 4]) \n",
    "filter_list([\"A\", 0, \"Edabit\", 1729, \"Python\", \"1729\"])\n",
    "filter_list([\"Nothing\", \"here\"])"
   ]
  },
  {
   "cell_type": "raw",
   "id": "fb9776f9",
   "metadata": {},
   "source": [
    "2.Given a list of numbers, create a function which returns the list but with each element's index in the list added to itself. This means you add 0 to the number at index 0, add 1 to the number at index 1, etc...\n",
    "Examples:\n",
    "add_indexes([0, 0, 0, 0, 0]) ➞ [0, 1, 2, 3, 4]\n",
    "add_indexes([1, 2, 3, 4, 5]) ➞ [1, 3, 5, 7, 9]\n",
    "add_indexes([5, 4, 3, 2, 1]) ➞ [5, 5, 5, 5, 5]"
   ]
  },
  {
   "cell_type": "code",
   "execution_count": 13,
   "id": "9be0374e",
   "metadata": {},
   "outputs": [],
   "source": [
    "def add_indexes(l):\n",
    "    o = []\n",
    "    for i in range(len(l)):\n",
    "        o.append(i+l[i])\n",
    "    #print(f'{l} --> {o}')\n",
    "add_indexes([0, 0, 0, 0, 0]) \n",
    "add_indexes([1, 2, 3, 4, 5]) \n",
    "add_indexes([5, 4, 3, 2, 1])"
   ]
  },
  {
   "cell_type": "code",
   "execution_count": null,
   "id": "5434ea7b",
   "metadata": {},
   "outputs": [],
   "source": []
  },
  {
   "cell_type": "raw",
   "id": "67d71971",
   "metadata": {},
   "source": [
    "3.Create a function that takes the height and radius of a cone as arguments and returns the volume of the cone rounded to the nearest hundredth. See the resources tab for the formula.\n",
    "Examples:\n",
    "cone_volume(3, 2) ➞ 12.57\n",
    "cone_volume(15, 6) ➞ 565.49\n",
    "cone_volume(18, 0) ➞ 0"
   ]
  },
  {
   "cell_type": "code",
   "execution_count": 5,
   "id": "652b7f36",
   "metadata": {},
   "outputs": [
    {
     "name": "stdout",
     "output_type": "stream",
     "text": [
      "cone volume --> 12.57\n",
      "cone volume --> 565.49\n",
      "cone volume --> 0.00\n"
     ]
    }
   ],
   "source": [
    "import math\n",
    "def cone_volume(h,r):\n",
    "    v = (math.pi/3)*r**2*h\n",
    "    print(f'cone volume --> {v:.2f}')\n",
    "cone_volume(3,2) \n",
    "cone_volume(15,6)    \n",
    "cone_volume(18,0)    "
   ]
  },
  {
   "cell_type": "raw",
   "id": "8396f3a3",
   "metadata": {},
   "source": [
    "4.This Triangular Number Sequence is generated from a pattern of dots that form a triangle.\n",
    "The first 5 numbers of the sequence, or dots, are: 1, 3, 6, 10, 15\n",
    "This means that the first triangle has just one dot, the second one has three dots, the third one has 6 dots and so on. Write a function that gives the number of dots with its corresponding triangle number of the sequence.\n",
    "\n",
    "Examples:\n",
    "triangle(1) ➞ 1\n",
    "triangle(6) ➞ 21\n",
    "triangle(215) ➞ 23220"
   ]
  },
  {
   "cell_type": "code",
   "execution_count": 6,
   "id": "68cae345",
   "metadata": {},
   "outputs": [
    {
     "name": "stdout",
     "output_type": "stream",
     "text": [
      "Output ➞ 1\n",
      "Output ➞ 21\n",
      "Output ➞ 23220\n"
     ]
    }
   ],
   "source": [
    "def triangle(in_num):\n",
    "    print(f'Output ➞ {int((in_num)*((in_num+1)/2))}')\n",
    "\n",
    "triangle(1)\n",
    "triangle(6)\n",
    "triangle(215)"
   ]
  },
  {
   "cell_type": "raw",
   "id": "9d3e613b",
   "metadata": {},
   "source": [
    "5.Create a function that takes a list of numbers between 1 and 10 (excluding one number) and returns the missing number.\n",
    "Examples:\n",
    "missing_num([1, 2, 3, 4, 6, 7, 8, 9, 10]) ➞ 5\n",
    "missing_num([7, 2, 3, 6, 5, 9, 1, 4, 8]) ➞ 10\n",
    "missing_num([10, 5, 1, 2, 4, 6, 8, 3, 9]) ➞ 7"
   ]
  },
  {
   "cell_type": "code",
   "execution_count": 9,
   "id": "ae278bc5",
   "metadata": {},
   "outputs": [
    {
     "name": "stdout",
     "output_type": "stream",
     "text": [
      "[5, 5, 5, 5, 5, 5, 5, 5, 5]\n",
      "[10, 10, 10, 10, 10, 10, 10, 10, 10]\n",
      "[7, 7, 7, 7, 7, 7, 7, 7, 7]\n"
     ]
    }
   ],
   "source": [
    " def missing_num(l):\n",
    "        a = [1,2,3,4,5,6,7,8,9,10]\n",
    "        b = []\n",
    "        for i in l:\n",
    "            for j in a:\n",
    "                if j not in l:\n",
    "                    b.append(j)\n",
    "        print(b)\n",
    "missing_num([1, 2, 3, 4, 6, 7, 8, 9, 10]) \n",
    "missing_num([7, 2, 3, 6, 5, 9, 1, 4, 8])  \n",
    "missing_num([10, 5, 1, 2, 4, 6, 8, 3, 9])"
   ]
  },
  {
   "cell_type": "code",
   "execution_count": null,
   "id": "fdb4139d",
   "metadata": {},
   "outputs": [],
   "source": []
  }
 ],
 "metadata": {
  "kernelspec": {
   "display_name": "Python 3 (ipykernel)",
   "language": "python",
   "name": "python3"
  },
  "language_info": {
   "codemirror_mode": {
    "name": "ipython",
    "version": 3
   },
   "file_extension": ".py",
   "mimetype": "text/x-python",
   "name": "python",
   "nbconvert_exporter": "python",
   "pygments_lexer": "ipython3",
   "version": "3.9.12"
  }
 },
 "nbformat": 4,
 "nbformat_minor": 5
}
