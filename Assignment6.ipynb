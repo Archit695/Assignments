{
 "cells": [
  {
   "cell_type": "raw",
   "id": "b7157ef3",
   "metadata": {},
   "source": [
    "1. What are escape characters, and how do you use them?\n",
    "S. Escape characters represent characters in string values that would otherwise be difficult or impossible to type into code. We can use the backslash character to escape a single character or symbol."
   ]
  },
  {
   "cell_type": "raw",
   "id": "3e159187",
   "metadata": {},
   "source": [
    "2. What do the escape characters n and t stand for?\n",
    "S. \\n is a newline. \n",
    "   \\t is a tab."
   ]
  },
  {
   "cell_type": "raw",
   "id": "1e9ec0f6",
   "metadata": {},
   "source": [
    "3. What is the way to include backslash characters in a string?\n",
    "S. The \\\\ escape character will represent the backslash character in a string."
   ]
  },
  {
   "cell_type": "raw",
   "id": "1f5bdcba",
   "metadata": {},
   "source": [
    "4. The string \"Howl's Moving Castle\" is a correct value. Why isn't the single quote character in the word Howl's not escaped a problem?\n",
    "S.  The string \"Howl's Moving Castle\" escaped the problem because it is wrapped inside double quotes. If its wrapped inside single quotes then we have to use escape character \\' to show single quote in the final output."
   ]
  },
  {
   "cell_type": "raw",
   "id": "b78a917b",
   "metadata": {},
   "source": [
    "5. How do you write a string of newlines if you don't want to use the n character?\n",
    "S. Multiline string allow you to use newlines in string without the \\n escape character."
   ]
  },
  {
   "cell_type": "raw",
   "id": "3e834f4b",
   "metadata": {},
   "source": [
    "6.What are the values of the given expressions ?\n",
    "'Hello, world!'[1]\n",
    "'Hello, world!'[0:5]\n",
    "'Hello, world!'[:5]\n",
    "'Hello, world!'[3:]\n",
    "\n",
    "S. 'e'\n",
    "   'Hello'\n",
    "   'Hello'\n",
    "   'lo, world!'"
   ]
  },
  {
   "cell_type": "raw",
   "id": "09192dbc",
   "metadata": {},
   "source": [
    "7.What are the values of the following expressions ?\n",
    "'Hello'.upper()\n",
    "'Hello'.upper().isupper()\n",
    "'Hello'.upper().lower()\n",
    "\n",
    "S. 'HELLO'\n",
    "    True\n",
    "   'hello'"
   ]
  },
  {
   "cell_type": "raw",
   "id": "8e97c07f",
   "metadata": {},
   "source": [
    "8.What are the values of the following expressions ?\n",
    "'Remember, remember, the fifith of July.'.split()\n",
    "-'.join('There can only one'.split())\n",
    "\n",
    "S.  ['Remember,', 'remember,', 'the', 'fifith', 'of', 'July.']\n",
    "'There-can-only-one'"
   ]
  },
  {
   "cell_type": "raw",
   "id": "935ed0ae",
   "metadata": {},
   "source": [
    "9. What are the methods for right-justifying, left-justifying, and centering a string?\n",
    "\n",
    "S. rjust(),ljust(),center()"
   ]
  },
  {
   "cell_type": "raw",
   "id": "76bfc6e1",
   "metadata": {},
   "source": [
    "10. What is the best way to remove whitespace characters from the start or end?\n",
    "\n",
    "S. The lstrip() and rstrip() methods remove whitesapce characters from the left and right ends of a string respectively."
   ]
  }
 ],
 "metadata": {
  "kernelspec": {
   "display_name": "Python 3 (ipykernel)",
   "language": "python",
   "name": "python3"
  },
  "language_info": {
   "codemirror_mode": {
    "name": "ipython",
    "version": 3
   },
   "file_extension": ".py",
   "mimetype": "text/x-python",
   "name": "python",
   "nbconvert_exporter": "python",
   "pygments_lexer": "ipython3",
   "version": "3.9.12"
  }
 },
 "nbformat": 4,
 "nbformat_minor": 5
}
