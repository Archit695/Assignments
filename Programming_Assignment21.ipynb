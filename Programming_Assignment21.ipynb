{
 "cells": [
  {
   "cell_type": "raw",
   "id": "18a5906b",
   "metadata": {},
   "source": [
    "1.Write a function that takes a list and a number as arguments. Add the number to the end of the list, then remove the first element of the list. The function should then return the updated list.\n",
    "Examples:\n",
    "next_in_line([5, 6, 7, 8, 9], 1) ➞ [6, 7, 8, 9, 1]\n",
    "next_in_line([7, 6, 3, 23, 17], 10) ➞ [6, 3, 23, 17, 10]\n",
    "next_in_line([1, 10, 20, 42 ], 6) ➞ [10, 20, 42, 6]\n",
    "next_in_line([], 6) ➞ \"No list has been selected\""
   ]
  },
  {
   "cell_type": "code",
   "execution_count": 6,
   "id": "bb4f3595",
   "metadata": {},
   "outputs": [
    {
     "name": "stdout",
     "output_type": "stream",
     "text": [
      "[6, 7, 8, 9, 1]\n",
      "[6, 3, 23, 17, 10]\n",
      "[10, 20, 42, 6]\n",
      "Renter the arguments\n"
     ]
    }
   ],
   "source": [
    "def next_in_line(a,b):\n",
    "    \n",
    "    if type(a)==list and len(a)>1:\n",
    "        a.append(b)\n",
    "        a.remove(a[0])\n",
    "        print(a)\n",
    "    else:\n",
    "        print(\"Renter the arguments\")\n",
    "next_in_line([5, 6, 7, 8, 9], 1)\n",
    "next_in_line([7, 6, 3, 23, 17], 10)\n",
    "next_in_line([1, 10, 20, 42 ], 6)\n",
    "next_in_line([], 6)"
   ]
  },
  {
   "cell_type": "raw",
   "id": "8fb8bb15",
   "metadata": {},
   "source": [
    "2.Create the function that takes a list of dictionaries and returns the sum of people's budgets.\n",
    "Examples:\n",
    "get_budgets([ { \"name\": \"John\", \"age\": 21, \"budget\": 23000 }, { \"name\": \"Steve\", \"age\": 32, \"budget\": 40000 }, { \"name\": \"Martin\", \"age\": 16, \"budget\": 2700 } ]) ➞ 65700\n",
    "\n",
    "get_budgets([ { \"name\": \"John\", \"age\": 21, \"budget\": 29000 }, { \"name\": \"Steve\", \"age\": 32, \"budget\": 32000 }, { \"name\": \"Martin\", \"age\": 16, \"budget\": 1600 } ]) ➞ 62600"
   ]
  },
  {
   "cell_type": "code",
   "execution_count": 7,
   "id": "91951474",
   "metadata": {},
   "outputs": [
    {
     "name": "stdout",
     "output_type": "stream",
     "text": [
      "sum --> 65700\n",
      "sum --> 62600\n"
     ]
    }
   ],
   "source": [
    "def get_budgets(a):\n",
    "    b = 0\n",
    "    for i in a:\n",
    "        b += i['budget']\n",
    "    print(f'sum --> {b}')\n",
    "get_budgets([\n",
    "{ \"name\": \"John\", \"age\": 21, \"budget\": 23000 },\n",
    "{ \"name\": \"Steve\", \"age\": 32, \"budget\": 40000 },\n",
    "{ \"name\": \"Martin\", \"age\": 16, \"budget\": 2700 }\n",
    "])\n",
    "\n",
    "get_budgets([\n",
    "{ \"name\": \"John\", \"age\": 21, \"budget\": 29000 },\n",
    "{ \"name\": \"Steve\", \"age\": 32, \"budget\": 32000 },\n",
    "{ \"name\": \"Martin\", \"age\": 16, \"budget\": 1600 }\n",
    "])"
   ]
  },
  {
   "cell_type": "raw",
   "id": "b52745d9",
   "metadata": {},
   "source": [
    "3.Create a function that takes a string and returns a string with its letters in alphabetical order.\n",
    "Examples:\n",
    "alphabet_soup(\"hello\") ➞ \"ehllo\"\n",
    "alphabet_soup(\"edabit\") ➞ \"abdeit\"\n",
    "alphabet_soup(\"hacker\") ➞ \"acehkr\"\n",
    "alphabet_soup(\"geek\") ➞ \"eegk\"\n",
    "alphabet_soup(\"javascript\") ➞ \"aacijprstv\""
   ]
  },
  {
   "cell_type": "code",
   "execution_count": 9,
   "id": "53f602c0",
   "metadata": {},
   "outputs": [
    {
     "name": "stdout",
     "output_type": "stream",
     "text": [
      "hello --> ehllo\n",
      "edabit --> abdeit\n",
      "hacker --> acehkr\n",
      "geek --> eegk\n",
      "javascript --> aacijprstv\n"
     ]
    }
   ],
   "source": [
    "def alphabet_soup(a):\n",
    "    b = ''.join(sorted(a))\n",
    "    print(f'{a} --> {b}')\n",
    "alphabet_soup(\"hello\")\n",
    "alphabet_soup(\"edabit\")\n",
    "alphabet_soup(\"hacker\")\n",
    "alphabet_soup(\"geek\")\n",
    "alphabet_soup(\"javascript\")"
   ]
  },
  {
   "cell_type": "raw",
   "id": "2ae2be36",
   "metadata": {},
   "source": [
    "4.What will be the value of your investment at the end of the 10 year period?\n",
    "Create a function that accepts the principal p, the term in years t, the interest rate r, and the number of compounding periods per year n. The function returns the value at the end of term rounded to the nearest cent.\n",
    "\n",
    "For the example above:\n",
    "compound_interest(10000, 10, 0.06, 12) ➞ 18193.97\n",
    "Note that the interest rate is given as a decimal and n=12 because with monthly compounding there are 12 periods per year. Compounding can also be done annually, quarterly, weekly, or daily.\n",
    "\n",
    "Examples:\n",
    "compound_interest(100, 1, 0.05, 1) ➞ 105.0\n",
    "compound_interest(3500, 15, 0.1, 4) ➞ 15399.26\n",
    "compound_interest(100000, 20, 0.15, 365) ➞ 2007316.26"
   ]
  },
  {
   "cell_type": "code",
   "execution_count": 3,
   "id": "7448c946",
   "metadata": {},
   "outputs": [
    {
     "name": "stdout",
     "output_type": "stream",
     "text": [
      "105.00\n",
      "15399.26\n",
      "2007316.26\n"
     ]
    }
   ],
   "source": [
    "def compound_interest(p,t,r,n):\n",
    "    c = p*(1+(r/n))**(n*t)\n",
    "    print(f'{c:.2f}')\n",
    "compound_interest(100, 1, 0.05, 1) \n",
    "compound_interest(3500, 15, 0.1, 4)\n",
    "compound_interest(100000, 20, 0.15, 365)"
   ]
  },
  {
   "cell_type": "raw",
   "id": "94a8662e",
   "metadata": {},
   "source": [
    "5.Write a function that takes a list of elements and returns only the integers.\n",
    "Examples:\n",
    "return_only_integer([9, 2, \"space\", \"car\", \"lion\", 16]) ➞ [9, 2, 16]\n",
    "return_only_integer([\"hello\", 81, \"basketball\", 123, \"fox\"]) ➞ [81, 123]\n",
    "return_only_integer([10, \"121\", 56, 20, \"car\", 3, \"lion\"]) ➞ [10, 56, 20,3]\n",
    "return_only_integer([\"String\", True, 3.3, 1]) ➞ [1]\n",
    "\n"
   ]
  },
  {
   "cell_type": "code",
   "execution_count": 4,
   "id": "7521f22e",
   "metadata": {},
   "outputs": [
    {
     "name": "stdout",
     "output_type": "stream",
     "text": [
      "[9, 2, 16]\n",
      "[81, 123]\n",
      "[10, 56, 20, 3]\n",
      "[1]\n"
     ]
    }
   ],
   "source": [
    "def return_only_integer(l):\n",
    "    a = []\n",
    "    for i in l:\n",
    "        if type(i) == int:\n",
    "            a.append(i)\n",
    "    print(a)\n",
    "return_only_integer([9, 2, \"space\", \"car\", \"lion\", 16])\n",
    "return_only_integer([\"hello\", 81, \"basketball\", 123, \"fox\"]) \n",
    "return_only_integer([10, \"121\", 56, 20, \"car\", 3, \"lion\"]) \n",
    "return_only_integer([\"String\", True, 3.3, 1]) \n"
   ]
  },
  {
   "cell_type": "code",
   "execution_count": null,
   "id": "1659cc25",
   "metadata": {},
   "outputs": [],
   "source": []
  }
 ],
 "metadata": {
  "kernelspec": {
   "display_name": "Python 3 (ipykernel)",
   "language": "python",
   "name": "python3"
  },
  "language_info": {
   "codemirror_mode": {
    "name": "ipython",
    "version": 3
   },
   "file_extension": ".py",
   "mimetype": "text/x-python",
   "name": "python",
   "nbconvert_exporter": "python",
   "pygments_lexer": "ipython3",
   "version": "3.9.12"
  }
 },
 "nbformat": 4,
 "nbformat_minor": 5
}
