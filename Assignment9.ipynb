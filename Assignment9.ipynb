{
 "cells": [
  {
   "cell_type": "raw",
   "id": "8336c615",
   "metadata": {},
   "source": [
    "1. To what does a relative path refer?\n",
    "S. The relative path is the path to some file with respect to your current working directory (PWD)."
   ]
  },
  {
   "cell_type": "raw",
   "id": "a665a5b5",
   "metadata": {},
   "source": [
    "2. What does an absolute path start with your operating system?\n",
    "S. In Windows based systems absolute path starts with (C:) while In Linux based systems the absolute path starts with (/)."
   ]
  },
  {
   "cell_type": "raw",
   "id": "637ead19",
   "metadata": {},
   "source": [
    "3. What do the functions os.getcwd() and os.chdir() do?\n",
    "S. os.getcwd() method tells us the location of current working directory (CWD). Whereas os.chdir() method in Python used to change the current working directory to specified path."
   ]
  },
  {
   "cell_type": "raw",
   "id": "98b268b5",
   "metadata": {},
   "source": [
    "4. What are the . and .. folders?\n",
    "S. (.) Represents the Current Directory Whereas (..) Represents the Parent Directory of the Current Directory."
   ]
  },
  {
   "cell_type": "raw",
   "id": "9a0cf59a",
   "metadata": {},
   "source": [
    "5. In C:\\bacon\\eggs\\spam.txt, which part is the dir name, and which part is the base name?\n",
    "S. The dir name is C:\\\\bacon\\\\eggs\n",
    "The Base name is spam.txt"
   ]
  },
  {
   "cell_type": "raw",
   "id": "076c4905",
   "metadata": {},
   "source": [
    "6. What are the three “mode” arguments that can be passed to the open() function?\n",
    "S. ‘r’ – Read Mode: This is the default mode for open().\n",
    "‘w’ – Write Mode: Using this mode will overwrite any existing content in a file. If the given file does not exist, a new one will be created.\n",
    "‘r+’ – Read/Write Mode: Use to simultaneously read and write to a file."
   ]
  },
  {
   "cell_type": "raw",
   "id": "1b04c4a4",
   "metadata": {},
   "source": [
    "7. What happens if an existing file is opened in write mode?\n",
    "S. Using this mode will overwrite any existing content in a file. If the given file does not exist, a new one will be created."
   ]
  },
  {
   "cell_type": "raw",
   "id": "c2682746",
   "metadata": {},
   "source": [
    "8. How do you tell the difference between read() and readlines()?\n",
    "S. The read() will read the whole file at once and then print out the first characters that take up as many bytes as you specify in the parenthesis versus the readline() that will read and print out only the first characters that take up as many bytes as you specify in the parenthesis."
   ]
  },
  {
   "cell_type": "raw",
   "id": "d615be61",
   "metadata": {},
   "source": [
    "9. What data structure does a shelf value resemble?\n",
    "S.  A shelf value resembles a dictionary value; it has keys and values, along with keys() and values() methods that work similarly to the dictionary methods of the same names."
   ]
  }
 ],
 "metadata": {
  "kernelspec": {
   "display_name": "Python 3 (ipykernel)",
   "language": "python",
   "name": "python3"
  },
  "language_info": {
   "codemirror_mode": {
    "name": "ipython",
    "version": 3
   },
   "file_extension": ".py",
   "mimetype": "text/x-python",
   "name": "python",
   "nbconvert_exporter": "python",
   "pygments_lexer": "ipython3",
   "version": "3.9.12"
  }
 },
 "nbformat": 4,
 "nbformat_minor": 5
}
