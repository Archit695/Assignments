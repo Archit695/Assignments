{
 "cells": [
  {
   "cell_type": "raw",
   "id": "6ad6863b",
   "metadata": {},
   "source": [
    "1.Write a function that stutters a word as if someone is struggling to read it. The first two letters are repeated twice with an ellipsis ... and space after each, and then the word is pronounced with a question mark ?\n",
    "Examples: \n",
    "stutter(\"incredible\") ➞ \"in... in... incredible?\"\n",
    "stutter(\"enthusiastic\") ➞ \"en... en... enthusiastic?\"\n",
    "stutter(\"outstanding\") ➞ \"ou... ou... outstanding?\"\n",
    "\n",
    "Hint :- Assume all input is in lower case and at least two characters long."
   ]
  },
  {
   "cell_type": "code",
   "execution_count": 12,
   "id": "40bc51c8",
   "metadata": {},
   "outputs": [
    {
     "name": "stdout",
     "output_type": "stream",
     "text": [
      "Enter the word: enthusiastic \n",
      "enthusiastic  ➞ en... en... enthusiastic ?\n"
     ]
    }
   ],
   "source": [
    "def shutter():\n",
    "    a = input(\"Enter the word: \")\n",
    "    b = a.replace(a[:2],((a[0:2]+'... ')*2)+a[0:2]) + '?'\n",
    "    print(f'{a} ➞ {b}')\n",
    "shutter()\n"
   ]
  },
  {
   "cell_type": "raw",
   "id": "2e19d20d",
   "metadata": {},
   "source": [
    "2.Create a function that takes an angle in radians and returns the corresponding\n",
    "angle in degrees rounded to one decimal place.\n",
    "Examples\n",
    "radians_to_degrees(1) ➞ 57.3\n",
    "radians_to_degrees(20) ➞ 1145.9\n",
    "radians_to_degrees(50) ➞ 2864.8\n",
    "\n"
   ]
  },
  {
   "cell_type": "code",
   "execution_count": 22,
   "id": "dc39aa61",
   "metadata": {},
   "outputs": [
    {
     "name": "stdout",
     "output_type": "stream",
     "text": [
      "Enter the angle in radian: 1\n",
      "1 radian --> 57.3 degree\n"
     ]
    }
   ],
   "source": [
    "def degree():\n",
    "    a = int(input(\"Enter the angle in radian: \"))\n",
    "    b = (180/3.14)*a\n",
    "    print(f'{a} radian --> {b :.1f} degree')\n",
    "degree()"
   ]
  },
  {
   "cell_type": "raw",
   "id": "e2074e1b",
   "metadata": {},
   "source": [
    "3. In this challenge, establish if a given integer num is a Curzon number. If 1 plus\n",
    "2 elevated to num is exactly divisible by 1 plus 2 multiplied by num, then num is a Curzon\n",
    "number.\n",
    "Given a non-negative integer num, implement a function that returns True if num is a Curzon\n",
    "number, or False otherwise.\n",
    "Examples\n",
    "is_curzon(5) ➞ True\n",
    "# 2 ** 5 + 1 = 33\n",
    "# 2 * 5 + 1 = 11\n",
    "# 33 is a multiple of 11\n",
    "is_curzon(10) ➞ False\n",
    "# 2 ** 10 + 1 = 1025\n",
    "# 2 * 10 + 1 = 21\n",
    "# 1025 is not a multiple of 21\n",
    "is_curzon(14) ➞ True\n",
    "# 2 ** 14 + 1 = 16385\n",
    "# 2 * 14 + 1 = 29\n",
    "# 16385 is a multiple of 29"
   ]
  },
  {
   "cell_type": "code",
   "execution_count": 24,
   "id": "d4ddd010",
   "metadata": {},
   "outputs": [
    {
     "name": "stdout",
     "output_type": "stream",
     "text": [
      "Enter a number: 5\n",
      "5  is a curzon number\n",
      "Enter a number: 10\n",
      "10  is not a corzon number\n",
      "Enter a number: 14\n",
      "14  is a curzon number\n",
      "Enter a number: 12\n",
      "12  is not a corzon number\n",
      "Enter a number: 14\n",
      "14  is a curzon number\n"
     ]
    }
   ],
   "source": [
    "def is_curzon():\n",
    "    a = int(input(\"Enter a number: \"))\n",
    "    b = 2**a+1\n",
    "    c = 2*a+1\n",
    "    if b % c == 0:\n",
    "        print(a,' is a curzon number')\n",
    "    else:\n",
    "        print(a, ' is not a corzon number')\n",
    "for i in range(5):\n",
    "    is_curzon()"
   ]
  },
  {
   "cell_type": "raw",
   "id": "f88cc006",
   "metadata": {},
   "source": [
    "4.Given the side length x find the area of a hexagon.\n",
    "\n",
    "Examples\n",
    "area_of_hexagon(1) ➞ 2.6\n",
    "area_of_hexagon(2) ➞ 10.4\n",
    "area_of_hexagon(3) ➞ 23.4"
   ]
  },
  {
   "cell_type": "code",
   "execution_count": 26,
   "id": "a33aaf36",
   "metadata": {},
   "outputs": [
    {
     "name": "stdout",
     "output_type": "stream",
     "text": [
      "enter the length: 1\n",
      "area of hexagon is 2.60\n",
      "enter the length: 2\n",
      "area of hexagon is 10.39\n",
      "enter the length: 3\n",
      "area of hexagon is 23.38\n"
     ]
    }
   ],
   "source": [
    "import math\n",
    "def area_of_hexagon():\n",
    "    s = int(input(\"enter the length: \"))\n",
    "    a = (math.sqrt(3)*3*pow(s,2))/2\n",
    "    print(f'area of hexagon is {a:.2f}')\n",
    "for i in range(3):\n",
    "    area_of_hexagon()"
   ]
  },
  {
   "cell_type": "raw",
   "id": "6d831e37",
   "metadata": {},
   "source": [
    "5. Create a function that returns a base-2 (binary) representation of a base-10\n",
    "(decimal) string number. To convert is simple: ((2) means base-2 and (10) means base-10)\n",
    "010101001(2) = 1 + 8 + 32 + 128.\n",
    "Going from right to left, the value of the most right bit is 1, now from that every bit to the left\n",
    "will be x2 the value, value of an 8 bit binary numbers are (256, 128, 64, 32, 16, 8, 4, 2, 1).\n",
    "Examples\n",
    "binary(1) ➞ \"1\"\n",
    "# 1*1 = 1\n",
    "binary(5) ➞ \"101\"\n",
    "# 1*1 + 1*4 = 5\n",
    "binary(10) ➞ \"1010\"\n",
    "# 1*2 + 1*8 = 10"
   ]
  },
  {
   "cell_type": "code",
   "execution_count": 28,
   "id": "04554676",
   "metadata": {},
   "outputs": [
    {
     "name": "stdout",
     "output_type": "stream",
     "text": [
      "Enter a Number: 1\n",
      "Binary of 1 ➞ 1\n",
      "Enter a Number: 5\n",
      "Binary of 5 ➞ 101\n",
      "Enter a Number: 10\n",
      "Binary of 10 ➞ 1010\n"
     ]
    }
   ],
   "source": [
    "def getBinary():\n",
    "    in_num = int(input(\"Enter a Number: \"))\n",
    "    out_num = bin(in_num).replace('0b','') \n",
    "    print(f'Binary of {in_num} ➞ {out_num}')\n",
    "\n",
    "for x in range(3):\n",
    "    getBinary()\n"
   ]
  },
  {
   "cell_type": "code",
   "execution_count": null,
   "id": "f8c8c2c9",
   "metadata": {},
   "outputs": [],
   "source": []
  }
 ],
 "metadata": {
  "kernelspec": {
   "display_name": "Python 3 (ipykernel)",
   "language": "python",
   "name": "python3"
  },
  "language_info": {
   "codemirror_mode": {
    "name": "ipython",
    "version": 3
   },
   "file_extension": ".py",
   "mimetype": "text/x-python",
   "name": "python",
   "nbconvert_exporter": "python",
   "pygments_lexer": "ipython3",
   "version": "3.9.12"
  }
 },
 "nbformat": 4,
 "nbformat_minor": 5
}
