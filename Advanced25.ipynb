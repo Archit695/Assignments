{
 "cells": [
  {
   "cell_type": "raw",
   "id": "4f399efc",
   "metadata": {},
   "source": [
    "Q1. What is the distinction between a numpy array and a pandas data frame? Is there a way to convert between the two if there is ?\n",
    "Ans: Numpy Ndarray provides a lot of convenient and optimized methods for performing several mathematical operations on vectors.\n",
    "\n",
    "Pandas Dataframe is an in-memory 2-dimensional tabular representation of data. In simpler words, it can be seen as a spreadsheet having rows and columns.\n",
    "\n",
    "Conversion : Dataframe=pandas.DataFrame(array)"
   ]
  },
  {
   "cell_type": "raw",
   "id": "ec502d59",
   "metadata": {},
   "source": [
    "Q2. What can go wrong when an user enters in a stock-ticker symbol, and how do you handle it?\n",
    "Ans: The user may enter an invalid or non-existent ticker symbol. To handle this, you can validate the ticker symbol against a known list of valid symbols. You can use an API or a database that provides a list of valid symbols for this purpose."
   ]
  },
  {
   "cell_type": "raw",
   "id": "919331f4",
   "metadata": {},
   "source": [
    "Q3. Identify some of the plotting techniques that are used to produce a stock-market chart ?\n",
    "Ans: Bar chart, Line Chart are used for plotting."
   ]
  },
  {
   "cell_type": "raw",
   "id": "d991c3b8",
   "metadata": {},
   "source": [
    "Q4. Why is it essential to print a legend on a stock market chart ?\n",
    "Ans: Legend will help comparison between different stocks, so will be essential on a stock market chart\""
   ]
  },
  {
   "cell_type": "raw",
   "id": "9087651b",
   "metadata": {},
   "source": [
    "Q5. What is the best way to limit the length of a pandas data frame to less than a year ?\n",
    "Ans: We can use start and end parameters for that. In start we write the date from where we are starting and at the end we write the end date. SO within this span we can restric the duration.Also we can use the parameters like periods for how much times we need the duration and we can also use the frequency parameter."
   ]
  },
  {
   "cell_type": "raw",
   "id": "ece936a7",
   "metadata": {},
   "source": [
    "Q6. What is the definition of a 180-day moving average ?\n",
    "Ans: The 180-day moving average is represented as a line on charts and represents the average price over the past 180 days. The moving average can give traders a sense regarding whether the trend is up or down, while also identifying potential support or resistance areas."
   ]
  },
  {
   "cell_type": "raw",
   "id": "f09d5408",
   "metadata": {},
   "source": [
    "Q7. Did the chapter's final example use \"indirect\" importing? If so, how exactly do you do it?\n",
    "Ans: In Python, the chapter's final example may have used \"indirect\" importing, also known as importing a module using an alias. This technique allows you to import a module with a different name, making it easier to reference or avoid naming conflicts.\n",
    "In the indirect import statement, module_name is the name of the module you want to import, and alias_name is the name you want to use as an alias for the module.\n",
    "\n",
    "\n"
   ]
  },
  {
   "cell_type": "code",
   "execution_count": null,
   "id": "c7469a20",
   "metadata": {},
   "outputs": [],
   "source": [
    "import seaborn as sns"
   ]
  }
 ],
 "metadata": {
  "kernelspec": {
   "display_name": "Python 3 (ipykernel)",
   "language": "python",
   "name": "python3"
  },
  "language_info": {
   "codemirror_mode": {
    "name": "ipython",
    "version": 3
   },
   "file_extension": ".py",
   "mimetype": "text/x-python",
   "name": "python",
   "nbconvert_exporter": "python",
   "pygments_lexer": "ipython3",
   "version": "3.9.12"
  }
 },
 "nbformat": 4,
 "nbformat_minor": 5
}
