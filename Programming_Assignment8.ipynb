{
 "cells": [
  {
   "cell_type": "code",
   "execution_count": 24,
   "id": "3fdd28ec",
   "metadata": {},
   "outputs": [
    {
     "name": "stdout",
     "output_type": "stream",
     "text": [
      "[[  2   8 694]]\n",
      "[[ 50 108 666]]\n",
      "[[608 830 104]]\n",
      "[[1082   61   20]]\n"
     ]
    }
   ],
   "source": [
    "# 1. Write a Python Program to Add two Matrices ?\n",
    "import numpy as np\n",
    "record1 = np.matrix([[1,2,6],[5,9,8],[54,415,52],[541,5,5]])\n",
    "record2 = np.matrix([[1,6,688],[45,99,658],[554,415,52],[541,56,15]])\n",
    "result = np.matrix([[0,0,0],[0,0,0],[0,0,0],[0,0,0]])\n",
    "matrix1 = np.reshape(record1,(4,3))\n",
    "matrix2 = np.reshape(record2,(4,3))\n",
    "matrix3 = np.reshape(result,(4,3))\n",
    "\n",
    "for i in range(len(matrix1)):\n",
    "    for j in range(len(matrix1[0])):\n",
    "        result[i][j] = matrix1[i][j] + matrix2[i][j]\n",
    "for r in result:\n",
    "    print(r)"
   ]
  },
  {
   "cell_type": "code",
   "execution_count": 82,
   "id": "f99e8397",
   "metadata": {},
   "outputs": [
    {
     "name": "stdout",
     "output_type": "stream",
     "text": [
      "[[  3415   2694   2316]\n",
      " [  4842   4241   9778]\n",
      " [ 47537  62989 312926]\n",
      " [  3536   5816 375758]]\n"
     ]
    }
   ],
   "source": [
    "# 2. Write a Python Program to Multiply two Matrices ?\n",
    "record1 = np.array([[1,2,6],[5,9,8],[54,415,52],[541,5,5]])\n",
    "record2 = np.array([[1,6,688],[45,99,658],[554,415,52]])\n",
    "result = np.array([[0,0,0],[0,0,0],[0,0,0],[0,0,0]])\n",
    "matrix1 = np.reshape(record1,(4,3))\n",
    "matrix2 = np.reshape(record2,(3,3))\n",
    "matrix3 = np.reshape(result,(4,3))\n",
    "\n",
    "for i in range(len(matrix1)):\n",
    "    for j in range(len(matrix2[0])):\n",
    "        for k in range(len(matrix2)):\n",
    "        \n",
    "            result[i][j] += matrix1[i][k] * matrix2[k][j]\n",
    "#for r in result:\n",
    "#    print(r)\n",
    "print(result)    \n"
   ]
  },
  {
   "cell_type": "code",
   "execution_count": 94,
   "id": "b56ff856",
   "metadata": {},
   "outputs": [
    {
     "name": "stdout",
     "output_type": "stream",
     "text": [
      "[[0, 0, 7], [0, 0, 8], [0, 0, 9]]\n"
     ]
    }
   ],
   "source": [
    "\n"
   ]
  },
  {
   "cell_type": "code",
   "execution_count": 106,
   "id": "63828e80",
   "metadata": {},
   "outputs": [
    {
     "name": "stdout",
     "output_type": "stream",
     "text": [
      "[[3415, 4842, 62989, 4842], [4842, 4842, 62989, 5816], [5816, 4842, 5816, 375758]]\n"
     ]
    }
   ],
   "source": [
    "# 3. Write a Python Program to transpose a Matrix ?\n",
    "\n",
    "def generate_transpose(in_matrix):\n",
    "    out_matrix = []\n",
    "    for ele in range(len(in_matrix[0])):\n",
    "        out_matrix.append([0 for i in range(len(in_matrix))])\n",
    "    for i in range(len(in_matrix)):\n",
    "        for j in range(len(in_matrix[i])):\n",
    "            out_matrix[j][i] = in_matrix[i][j]\n",
    "    print(out_matrix)   \n",
    "generate_transpose(result)\n"
   ]
  },
  {
   "cell_type": "code",
   "execution_count": 2,
   "id": "b574a102",
   "metadata": {},
   "outputs": [
    {
     "name": "stdout",
     "output_type": "stream",
     "text": [
      "Enter a String:  Write a Python Program to sort Words in an Alphabatical Order\n",
      " A Alphabatical An In Order Program Python Sort To Words Write\n"
     ]
    }
   ],
   "source": [
    "# 4. Write a Python Program to sort Words in an Alphabatical Order ?\n",
    "def sortString():\n",
    "    in_string = input(\"Enter a String: \").title()\n",
    "    sorted_list = sorted(in_string.split(' '))\n",
    "    print(' '.join(sorted_list))\n",
    "\n",
    "sortString()"
   ]
  },
  {
   "cell_type": "code",
   "execution_count": 4,
   "id": "2c636d55",
   "metadata": {},
   "outputs": [
    {
     "ename": "SyntaxError",
     "evalue": "EOL while scanning string literal (2075489851.py, line 11)",
     "output_type": "error",
     "traceback": [
      "\u001b[1;36m  Input \u001b[1;32mIn [4]\u001b[1;36m\u001b[0m\n\u001b[1;33m    remove_punc('Write a Python &Program to Remo:ve Punctuation From a -String?'')\u001b[0m\n\u001b[1;37m                                                                                  ^\u001b[0m\n\u001b[1;31mSyntaxError\u001b[0m\u001b[1;31m:\u001b[0m EOL while scanning string literal\n"
     ]
    }
   ],
   "source": [
    "#  5. Write a Python Program to Remove Punctuation From a String?\n",
    "\n",
    "def remove_punc():\n",
    "    punct='''!()-[]{};:'\"\\,<>./?@#$%^&*_~'''\n",
    "    res=''\n",
    "    s = input(\"Enter a string: \")\n",
    "    for i in s:\n",
    "        if i not in punct:\n",
    "            res+=i\n",
    "    print(res)\n",
    "remove_punc('Write a Python &Program to Remo:ve Punctuation From a -String?'')"
   ]
  },
  {
   "cell_type": "code",
   "execution_count": 119,
   "id": "cf8bc98d",
   "metadata": {},
   "outputs": [
    {
     "name": "stdout",
     "output_type": "stream",
     "text": [
      "write write write all the number from from from 1 to 100\n"
     ]
    },
    {
     "data": {
      "text/plain": [
       "False"
      ]
     },
     "execution_count": 119,
     "metadata": {},
     "output_type": "execute_result"
    }
   ],
   "source": []
  },
  {
   "cell_type": "code",
   "execution_count": null,
   "id": "0a911507",
   "metadata": {},
   "outputs": [],
   "source": []
  }
 ],
 "metadata": {
  "kernelspec": {
   "display_name": "Python 3 (ipykernel)",
   "language": "python",
   "name": "python3"
  },
  "language_info": {
   "codemirror_mode": {
    "name": "ipython",
    "version": 3
   },
   "file_extension": ".py",
   "mimetype": "text/x-python",
   "name": "python",
   "nbconvert_exporter": "python",
   "pygments_lexer": "ipython3",
   "version": "3.9.12"
  }
 },
 "nbformat": 4,
 "nbformat_minor": 5
}
