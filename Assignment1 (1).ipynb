{
 "cells": [
  {
   "cell_type": "raw",
   "id": "84c1baed",
   "metadata": {},
   "source": [
    "1. In the below elements which of them are values or an expression? eg:- values can be\n",
    "integer or string and expressions will be mathematical operators.\n",
    "*\n",
    "&#39;hello&#39;\n",
    "-87.8\n",
    "-\n",
    "/\n",
    "+\n",
    "6\n",
    "S1)~ \n",
    "Values :-   &#39;hello&#39;\n",
    "            -87.8\n",
    "            6\n",
    "expressions :-  * \n",
    "                -\n",
    "                /\n",
    "                +"
   ]
  },
  {
   "cell_type": "raw",
   "id": "cc74bc53",
   "metadata": {},
   "source": [
    "2. What is the difference between string and variable?\n",
    "S2)~\n",
    "String is a type of data or information stored in a variable.String is written in quotes like \"Bingo\"."
   ]
  },
  {
   "cell_type": "raw",
   "id": "c31f4ab4",
   "metadata": {},
   "source": [
    "3. Describe three different data types.\n",
    "S3)~\n",
    "~Int - They are integers. Integers can be positive, negative and zero.\n",
    "~Float - They are floating point number. eg- 97.0 , 58.65\n",
    "~complex - They can have two parts, one positive and one negative."
   ]
  },
  {
   "cell_type": "raw",
   "id": "93bb3ab9",
   "metadata": {},
   "source": [
    "4. What is an expression made up of? What do all expressions do?\n",
    "S4)~\n",
    "An expression is a combination of values, variables, operators, and calls to functions.Any value is an expression.\n",
    "An expression is a type of instruction that combines various values and needed to be evaluate to get a result.\n"
   ]
  },
  {
   "cell_type": "raw",
   "id": "7b9bdf91",
   "metadata": {},
   "source": [
    "5). This assignment statements, like spam = 10. What is the difference between an expression and a statement?\n",
    "S5)~\n",
    "An expression is a combination of values, variables, operators, and calls to functions.\n",
    "The statement is a command which is to be interpreted by python, eg, input, print. \n",
    "\n"
   ]
  },
  {
   "cell_type": "raw",
   "id": "27154ac5",
   "metadata": {},
   "source": [
    "6). After running the following code, what does the variable bacon contain?\n",
    "bacon = 22\n",
    "bacon + 1\n",
    "S6)~\n"
   ]
  },
  {
   "cell_type": "code",
   "execution_count": 3,
   "id": "e90f67bf",
   "metadata": {},
   "outputs": [
    {
     "name": "stdout",
     "output_type": "stream",
     "text": [
      "23\n"
     ]
    }
   ],
   "source": [
    "bacon = 23\n",
    "bacon+1\n",
    "print(bacon)"
   ]
  },
  {
   "cell_type": "raw",
   "id": "fb3961b1",
   "metadata": {},
   "source": [
    "7). What should the values of the following two terms be?\n",
    "'spam' + 'spamspam'\n",
    "'spam'*3\n",
    "S7)~They will be same\n"
   ]
  },
  {
   "cell_type": "code",
   "execution_count": 6,
   "id": "5f348e07",
   "metadata": {},
   "outputs": [
    {
     "data": {
      "text/plain": [
       "'spamspamspam'"
      ]
     },
     "execution_count": 6,
     "metadata": {},
     "output_type": "execute_result"
    }
   ],
   "source": [
    "'spam'+'spamspam'\n"
   ]
  },
  {
   "cell_type": "code",
   "execution_count": 7,
   "id": "fc870b46",
   "metadata": {},
   "outputs": [
    {
     "data": {
      "text/plain": [
       "'spamspamspam'"
      ]
     },
     "execution_count": 7,
     "metadata": {},
     "output_type": "execute_result"
    }
   ],
   "source": [
    "'spam'*3"
   ]
  },
  {
   "cell_type": "raw",
   "id": "434155a8",
   "metadata": {},
   "source": [
    "8). Why is eggs a valid variable name while 100 is invalid?\n",
    "S8)~\n",
    "100 is an integer and integer cannot be used as a variable."
   ]
  },
  {
   "cell_type": "raw",
   "id": "b9f0b5f8",
   "metadata": {},
   "source": [
    "9). What three functions can be used to get the integer, floating-point number, or string\n",
    "version of a value?\n",
    "S9)~\n",
    "For integer - int()\n",
    "For floating - float()\n",
    "For string - str()\n"
   ]
  },
  {
   "cell_type": "raw",
   "id": "67371e8b",
   "metadata": {},
   "source": [
    "10). Why does this expression cause an error? How can you fix it?\n",
    "'I have eaten'  + 99 + 'burritos'\n",
    "S10)~\n",
    "99 is an integer and cannot concatenate with string."
   ]
  }
 ],
 "metadata": {
  "kernelspec": {
   "display_name": "Python 3 (ipykernel)",
   "language": "python",
   "name": "python3"
  },
  "language_info": {
   "codemirror_mode": {
    "name": "ipython",
    "version": 3
   },
   "file_extension": ".py",
   "mimetype": "text/x-python",
   "name": "python",
   "nbconvert_exporter": "python",
   "pygments_lexer": "ipython3",
   "version": "3.9.12"
  }
 },
 "nbformat": 4,
 "nbformat_minor": 5
}
