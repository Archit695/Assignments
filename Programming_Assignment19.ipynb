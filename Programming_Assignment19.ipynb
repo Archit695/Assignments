{
 "cells": [
  {
   "cell_type": "raw",
   "id": "4951c431",
   "metadata": {},
   "source": [
    "1.Create a function that takes a string and returns a string in which each character is repeated once.\n",
    "Examples:\n",
    "double_char(\"String\") ➞ \"SSttrriinngg\"\n",
    "double_char(\"Hello World!\") ➞ \"HHeelllloo WWoorrlldd!!\"\n",
    "doublechar(\"1234!_\") ➞ \"11223344!!__\""
   ]
  },
  {
   "cell_type": "code",
   "execution_count": 2,
   "id": "c62a5ff1",
   "metadata": {},
   "outputs": [
    {
     "name": "stdout",
     "output_type": "stream",
     "text": [
      "SSttrriinngg\n",
      "HHeelllloo  WWoorrlldd!!\n",
      "11223344!!__\n"
     ]
    }
   ],
   "source": [
    "def double_cahr(a):\n",
    "    b = ''\n",
    "    for i in a:\n",
    "        b += i*2\n",
    "    return b\n",
    "print(double_cahr(\"String\"))\n",
    "print(double_cahr(\"Hello World!\"))\n",
    "print(double_cahr(\"1234!_\"))"
   ]
  },
  {
   "cell_type": "raw",
   "id": "37d89eb5",
   "metadata": {},
   "source": [
    "2.Create a function that reverses a boolean value and returns the string \"boolean expected\" if another variable type is given.\n",
    "Examples:\n",
    "reverse(True) ➞ False\n",
    "reverse(False) ➞ True\n",
    "reverse(0) ➞ \"boolean expected\"\n",
    "reverse(None) ➞ \"boolean expected\""
   ]
  },
  {
   "cell_type": "code",
   "execution_count": 6,
   "id": "29933883",
   "metadata": {},
   "outputs": [
    {
     "name": "stdout",
     "output_type": "stream",
     "text": [
      "reverse(True) : False\n",
      "reverse(False) : True\n",
      "reverse(0) : boolean expected\n",
      "reverse(None) : boolean expected\n"
     ]
    }
   ],
   "source": [
    "def reverse(b):\n",
    "    if type(b) == bool:\n",
    "        return not b\n",
    "    else:\n",
    "        return \"boolean expected\"\n",
    "print(f'reverse(True) : {reverse(True)}')\n",
    "print(f'reverse(False) : {reverse(False)}')\n",
    "print(f'reverse(0) : {reverse(0)}')\n",
    "print(f'reverse(None) : {reverse(None)}')"
   ]
  },
  {
   "cell_type": "raw",
   "id": "aa143bb7",
   "metadata": {},
   "source": [
    "3. Create a function that returns the thickness (in meters) of a piece of paper after folding it n number of times. The paper starts off with a thickness of 0.5mm.\n",
    "Examples:\n",
    "num_layers(1) ➞ \"0.001m\" # Paper folded once is 1mm (equal to 0.001m) num_layers(4) ➞ \"0.008m\" # Paper folded 4 times is 8mm (equal to 0.008m) num_layers(21) ➞ \"1048.576m\" # Paper folded 21 times is 1048576mm (equal to 1048.576m)"
   ]
  },
  {
   "cell_type": "code",
   "execution_count": 3,
   "id": "788b0ff0",
   "metadata": {},
   "outputs": [
    {
     "name": "stdout",
     "output_type": "stream",
     "text": [
      "0.001m\n",
      "0.008m\n",
      "1048.576m\n",
      "18014398509481.984m\n"
     ]
    }
   ],
   "source": [
    "def num_layers(n):\n",
    "    start = 0.5\n",
    "    for i in range(n):\n",
    "        start *= 2\n",
    "    print(f\"{start/1000}m\")\n",
    "num_layers(1)\n",
    "num_layers(4)\n",
    "num_layers(21)\n",
    "num_layers(55)"
   ]
  },
  {
   "cell_type": "raw",
   "id": "90c5fece",
   "metadata": {},
   "source": [
    "4.Create a function that takes a single string as argument and returns an ordered list containing the indices of all capital letters in the string.\n",
    "Examples:\n",
    "index_of_caps(\"eDaBiT\") ➞ [1, 3, 5]\n",
    "index_of_caps(\"eQuINoX\") ➞ [1, 3, 4, 6]\n",
    "index_of_caps(\"determine\") ➞ []\n",
    "index_of_caps(\"STRIKE\") ➞ [0, 1, 2, 3, 4, 5]\n",
    "index_of_caps(\"sUn\") ➞ [1]"
   ]
  },
  {
   "cell_type": "code",
   "execution_count": 5,
   "id": "e2cffb7d",
   "metadata": {},
   "outputs": [
    {
     "name": "stdout",
     "output_type": "stream",
     "text": [
      "eDaBiT --> [1, 3, 5]\n",
      "eQuINoX --> [1, 3, 4, 6]\n",
      "determine --> []\n",
      "STRIKE --> [0, 1, 2, 3, 4, 5]\n",
      "sUn --> [1]\n"
     ]
    }
   ],
   "source": [
    "def index_of_caps(s):\n",
    "    o = []\n",
    "    for i in s:\n",
    "        if i.isupper():\n",
    "            o.append(s.index(i))\n",
    "    print(f'{s} --> {o}')\n",
    "index_of_caps(\"eDaBiT\")\n",
    "index_of_caps(\"eQuINoX\")\n",
    "index_of_caps(\"determine\")\n",
    "index_of_caps(\"STRIKE\")\n",
    "index_of_caps(\"sUn\")"
   ]
  },
  {
   "cell_type": "raw",
   "id": "09b03477",
   "metadata": {},
   "source": [
    "5.Using list comprehensions, create a function that finds all even numbers from 1 to the given number.\n",
    "Examples:\n",
    "find_even_nums(8) ➞ [2, 4, 6, 8]\n",
    "find_even_nums(4) ➞ [2, 4]\n",
    "find_even_nums(2) ➞ [2]"
   ]
  },
  {
   "cell_type": "code",
   "execution_count": 7,
   "id": "9b22eaa6",
   "metadata": {},
   "outputs": [
    {
     "name": "stdout",
     "output_type": "stream",
     "text": [
      "8 --> [0, 2, 4, 6, 8]\n",
      "4 --> [0, 2, 4]\n",
      "2 --> [0, 2]\n"
     ]
    }
   ],
   "source": [
    "def find_even_nums(n):\n",
    "    o = [i for i in range(n+1) if i%2==0]\n",
    "\n",
    "    print(f'{n} --> {o}')\n",
    "find_even_nums(8)\n",
    "find_even_nums(4)\n",
    "find_even_nums(2) \n",
    "    "
   ]
  },
  {
   "cell_type": "code",
   "execution_count": null,
   "id": "9baaa2a1",
   "metadata": {},
   "outputs": [],
   "source": []
  }
 ],
 "metadata": {
  "kernelspec": {
   "display_name": "Python 3 (ipykernel)",
   "language": "python",
   "name": "python3"
  },
  "language_info": {
   "codemirror_mode": {
    "name": "ipython",
    "version": 3
   },
   "file_extension": ".py",
   "mimetype": "text/x-python",
   "name": "python",
   "nbconvert_exporter": "python",
   "pygments_lexer": "ipython3",
   "version": "3.9.12"
  }
 },
 "nbformat": 4,
 "nbformat_minor": 5
}
