{
 "cells": [
  {
   "cell_type": "raw",
   "id": "64d0a6c9",
   "metadata": {},
   "source": [
    "1. What exactly is []?\n",
    "S. The empty list represented by [] is a list that contains no items"
   ]
  },
  {
   "cell_type": "raw",
   "id": "8f9c6d2d",
   "metadata": {},
   "source": [
    "2. In a list of values stored in a variable called spam, how would you assign the value 'hello' as the third value? (Assume [2, 4, 6, 8, 10] are in spam.)\n",
    "S. spam[2] == \"Hello\" "
   ]
  },
  {
   "cell_type": "raw",
   "id": "b6225fcb",
   "metadata": {},
   "source": [
    "Let's pretend the spam includes the list ['a','b','c','d'] for the next three queries.\n",
    "3. What is the value of spam[int(int('3'*2)//11)] ?\n",
    "S. d"
   ]
  },
  {
   "cell_type": "code",
   "execution_count": 1,
   "id": "8cf36bc7",
   "metadata": {},
   "outputs": [
    {
     "data": {
      "text/plain": [
       "'d'"
      ]
     },
     "execution_count": 1,
     "metadata": {},
     "output_type": "execute_result"
    }
   ],
   "source": [
    "spam = ['a','b','c','d']\n",
    "spam[int(int('3'*2)//11)]"
   ]
  },
  {
   "cell_type": "raw",
   "id": "1e1aff97",
   "metadata": {},
   "source": [
    "4. What is the value of spam[-1]?\n",
    "S. d"
   ]
  },
  {
   "cell_type": "code",
   "execution_count": 2,
   "id": "171294e4",
   "metadata": {},
   "outputs": [
    {
     "data": {
      "text/plain": [
       "'d'"
      ]
     },
     "execution_count": 2,
     "metadata": {},
     "output_type": "execute_result"
    }
   ],
   "source": [
    "spam[-1]"
   ]
  },
  {
   "cell_type": "raw",
   "id": "7e50a5f8",
   "metadata": {},
   "source": [
    "5. What is the value of spam[:2]?\n",
    "S. ['a', 'b']"
   ]
  },
  {
   "cell_type": "code",
   "execution_count": 3,
   "id": "c416c8b7",
   "metadata": {},
   "outputs": [
    {
     "data": {
      "text/plain": [
       "['a', 'b']"
      ]
     },
     "execution_count": 3,
     "metadata": {},
     "output_type": "execute_result"
    }
   ],
   "source": [
    "spam[:2]"
   ]
  },
  {
   "cell_type": "raw",
   "id": "184d8645",
   "metadata": {},
   "source": [
    "Let's pretend bacon has the list [3.14,'cat',11,'cat',True] for the next three question\n",
    "6. What is the value of bacon.index('cat')?\n",
    "S. 1"
   ]
  },
  {
   "cell_type": "code",
   "execution_count": 4,
   "id": "0f8bb503",
   "metadata": {},
   "outputs": [
    {
     "data": {
      "text/plain": [
       "1"
      ]
     },
     "execution_count": 4,
     "metadata": {},
     "output_type": "execute_result"
    }
   ],
   "source": [
    "bacon = [3.14,'cat',11,'cat',True]\n",
    "bacon.index('cat')"
   ]
  },
  {
   "cell_type": "raw",
   "id": "e04ad78d",
   "metadata": {},
   "source": [
    "7. How does bacon.append(99) change the look of the list value in bacon?\n",
    "S. [3.14,'cat',11,'cat',True,99]"
   ]
  },
  {
   "cell_type": "code",
   "execution_count": 5,
   "id": "0064950a",
   "metadata": {},
   "outputs": [
    {
     "data": {
      "text/plain": [
       "[3.14, 'cat', 11, 'cat', True, 99]"
      ]
     },
     "execution_count": 5,
     "metadata": {},
     "output_type": "execute_result"
    }
   ],
   "source": [
    "bacon.append(99)\n",
    "bacon"
   ]
  },
  {
   "cell_type": "raw",
   "id": "ddc4e519",
   "metadata": {},
   "source": [
    "8. How does bacon.remove('cat') change the look of the list in bacon?\n",
    "S. [3.14, 11, 'cat', True, 99]"
   ]
  },
  {
   "cell_type": "code",
   "execution_count": 6,
   "id": "4e08503a",
   "metadata": {},
   "outputs": [
    {
     "data": {
      "text/plain": [
       "[3.14, 11, 'cat', True, 99]"
      ]
     },
     "execution_count": 6,
     "metadata": {},
     "output_type": "execute_result"
    }
   ],
   "source": [
    "bacon.remove('cat')\n",
    "bacon"
   ]
  },
  {
   "cell_type": "raw",
   "id": "585aa0f0",
   "metadata": {},
   "source": [
    "9. What are the list concatenation and list replication operators?\n",
    "S.  The operator for list concatenation is (+), while the operator for replication is (*). "
   ]
  },
  {
   "cell_type": "raw",
   "id": "0c370489",
   "metadata": {},
   "source": [
    "10. What is difference between the list methods append() and insert()?\n",
    "S. While append() will add values only to the end of a list, insert() can add them anywhere in the list."
   ]
  },
  {
   "cell_type": "raw",
   "id": "8dd0d532",
   "metadata": {},
   "source": [
    "11. What are the two methods for removing items from a list?\n",
    "S. remove()-It helps to remove the very first given element matching from the list.\n",
    "pop() - The pop() method removes an element from the list based on the index given.\n",
    "The del statement is also used to remove items from a list."
   ]
  },
  {
   "cell_type": "raw",
   "id": "5a3cacf7",
   "metadata": {},
   "source": [
    "12. Describe how list values and string values are identical.\n",
    "S.  Both lists and strings can be passed to len() function, have indexes and slices, be used in for loops, be concatenated or replicated, and be used with the in and not in operators."
   ]
  },
  {
   "cell_type": "raw",
   "id": "7750a75d",
   "metadata": {},
   "source": [
    "13. What's the difference between tuples and lists?\n",
    "S. Lists are Mutable, Indexable and Slicable.They can have values added, removed, or changed. \n",
    "Tuples are Immutable but Indexable and Slicable. The tuple values cannot be changed at all. Also, tuples are represented using parentheses, (), while lists use the square brackets, []."
   ]
  },
  {
   "cell_type": "raw",
   "id": "bac64800",
   "metadata": {},
   "source": [
    "14. How do you type a tuple value that only contains the integer 42?\n",
    "S. (42,)\n",
    "The trailing comma is mandatory. otherwise its considered as a int by python Interpreter"
   ]
  },
  {
   "cell_type": "raw",
   "id": "10981f33",
   "metadata": {},
   "source": [
    "15. How do you get a list value's tuple form? How do you get a tuple value's list form?\n",
    "S. The tuple() and list() functions, respectively are used to convert a list to tuple and vice versa"
   ]
  },
  {
   "cell_type": "raw",
   "id": "ad7c47fe",
   "metadata": {},
   "source": [
    "16. Variables that \"contain\" list values are not necessarily lists themselves. Instead, what do they contain?\n",
    "S. They contain references to list values."
   ]
  },
  {
   "cell_type": "raw",
   "id": "fd8afd55",
   "metadata": {},
   "source": [
    "17. How do you distinguish between copy.copy() and copy.deepcopy()?\n",
    "S. The copy.copy() function will do a shallow copy of a list, while the copy.\n",
    "Deepcopy() function will do a deep copy of a list. That is, only copy.Deepcopy() will duplicate any lists inside the list."
   ]
  },
  {
   "cell_type": "raw",
   "id": "8ad5d23e",
   "metadata": {},
   "source": []
  }
 ],
 "metadata": {
  "kernelspec": {
   "display_name": "Python 3 (ipykernel)",
   "language": "python",
   "name": "python3"
  },
  "language_info": {
   "codemirror_mode": {
    "name": "ipython",
    "version": 3
   },
   "file_extension": ".py",
   "mimetype": "text/x-python",
   "name": "python",
   "nbconvert_exporter": "python",
   "pygments_lexer": "ipython3",
   "version": "3.9.12"
  }
 },
 "nbformat": 4,
 "nbformat_minor": 5
}
