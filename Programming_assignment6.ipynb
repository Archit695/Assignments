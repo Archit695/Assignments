{
 "cells": [
  {
   "cell_type": "code",
   "execution_count": 1,
   "id": "f9199703",
   "metadata": {},
   "outputs": [
    {
     "name": "stdout",
     "output_type": "stream",
     "text": [
      "Enter number of terms: 5\n",
      "Fibonacci sequence\n",
      "0\n",
      "1\n",
      "1\n",
      "2\n",
      "3\n"
     ]
    }
   ],
   "source": [
    "# 1. Write a Python Program to Display Fibonacci Sequence Using Recursion?\n",
    "def fib(n):\n",
    "    if n<=1:\n",
    "        return n\n",
    "    else:\n",
    "        return fib(n-1)+fib(n-2)\n",
    "    \n",
    "n = int(input(\"Enter number of terms: \"))\n",
    "print(\"Fibonacci sequence\")\n",
    "for i in range(n):\n",
    "    print(fib(i))\n"
   ]
  },
  {
   "cell_type": "code",
   "execution_count": 1,
   "id": "a730860f",
   "metadata": {},
   "outputs": [
    {
     "name": "stdout",
     "output_type": "stream",
     "text": [
      "Enter a number: 5\n",
      "The factorial of 5 is 120\n"
     ]
    }
   ],
   "source": [
    "# 2. Write a Python Program to Find Factorial of Number Using Recursion?\n",
    "def fact(n):\n",
    "    if n < 1:\n",
    "        return 1\n",
    "    else:\n",
    "        return n*fact(n-1)\n",
    "        \n",
    "n = int(input(\"Enter a number: \"))  \n",
    "value = fact(n)\n",
    "print(f\"The factorial of {n} is {value}\")"
   ]
  },
  {
   "cell_type": "code",
   "execution_count": 10,
   "id": "77ba1104",
   "metadata": {},
   "outputs": [
    {
     "name": "stdout",
     "output_type": "stream",
     "text": [
      "Enter weight in kg: 68\n",
      "Enter height in meters: 1.822\n",
      "Your're BMI is 20.48387738110013 and status is Healthy \n"
     ]
    }
   ],
   "source": [
    "# 3. Write a Python Program to calculate your Body Mass Index?\n",
    "def bmi():\n",
    "    weight = float(input(\"Enter weight in kg: \"))\n",
    "    height = float(input(\"Enter height in meters: \"))\n",
    "    cal = weight/height**2\n",
    "    if (cal < 18.5):\n",
    "        status = 'Underweight'\n",
    "    elif (cal >= 18.5 and cal < 24.9):\n",
    "        status = 'Healthy'\n",
    "    elif (cal >= 24.9 and cal < 30):\n",
    "        status = 'Overweight'\n",
    "    elif (cal >=30):\n",
    "        status = 'Suffering from Obesity'\n",
    "    print(f'Your\\'re BMI is {cal} and status is {status} ')\n",
    "bmi()"
   ]
  },
  {
   "cell_type": "code",
   "execution_count": 12,
   "id": "bd66be93",
   "metadata": {},
   "outputs": [
    {
     "name": "stdout",
     "output_type": "stream",
     "text": [
      "Enter a number: 325\n",
      "5.783825182329737\n"
     ]
    }
   ],
   "source": [
    "# 4. Write a Python Program to calculate the natural logarithm of any number?\n",
    "import math\n",
    "def nat_log():\n",
    "    n = eval(input(\"Enter a number: \"))\n",
    "    print(math.log(n))\n",
    "nat_log()"
   ]
  },
  {
   "cell_type": "code",
   "execution_count": 17,
   "id": "4c2d2c31",
   "metadata": {},
   "outputs": [
    {
     "name": "stdout",
     "output_type": "stream",
     "text": [
      "Enter the number of natural numbers: 3\n",
      "the cube of first 3 natural numbers is 36.0.\n"
     ]
    }
   ],
   "source": [
    "# 5. Write a Python Program for cube sum of first n natural numbers?\n",
    "def cube_n():\n",
    "    n = int(input(\"Enter the number of natural numbers: \"))\n",
    "    result = ((n**2)*((n+1)**2))/4\n",
    "    print(f\"the cube of first {n} natural numbers is {result}.\")\n",
    "cube_n()"
   ]
  },
  {
   "cell_type": "code",
   "execution_count": null,
   "id": "13b23470",
   "metadata": {},
   "outputs": [],
   "source": []
  }
 ],
 "metadata": {
  "kernelspec": {
   "display_name": "Python 3 (ipykernel)",
   "language": "python",
   "name": "python3"
  },
  "language_info": {
   "codemirror_mode": {
    "name": "ipython",
    "version": 3
   },
   "file_extension": ".py",
   "mimetype": "text/x-python",
   "name": "python",
   "nbconvert_exporter": "python",
   "pygments_lexer": "ipython3",
   "version": "3.9.12"
  }
 },
 "nbformat": 4,
 "nbformat_minor": 5
}
